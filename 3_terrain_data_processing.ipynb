{
 "cells": [
  {
   "cell_type": "code",
   "execution_count": 68,
   "id": "866a66a4-ec78-4af9-9cc5-b6540fafd393",
   "metadata": {
    "jupyter": {
     "source_hidden": true
    }
   },
   "outputs": [],
   "source": [
    "import pandas as pd\n",
    "import numpy as np\n",
    "import matplotlib.pyplot as plt\n",
    "import seaborn as sns\n",
    "import geopandas as gpd\n",
    "from shapely.geometry import Point\n",
    "from shapely.ops import nearest_points\n",
    "import matplotlib.patches as mpatches\n",
    "import rasterio\n",
    "from rasterio.transform import xy\n",
    "\n",
    "pd.set_option('display.max_columns', None)"
   ]
  },
  {
   "cell_type": "code",
   "execution_count": 69,
   "id": "b0167f63-4ba2-4109-b879-d1b1404f25c6",
   "metadata": {
    "jupyter": {
     "source_hidden": true
    }
   },
   "outputs": [],
   "source": [
    "terrain_label = {\n",
    "    1: \"Residence 1 or High developed areas\",\n",
    "    2: \"Residence 2 or Low developed areas\",\n",
    "    3: \"Rice paddies\",\n",
    "    4: \"Woody crops\",\n",
    "    5: \"Other croplands\",\n",
    "    6: \"In-house crops\",\n",
    "    7: \"Grassland\",\n",
    "    8: \"Barren land\",\n",
    "    9: \"Scrub/Shrub\",\n",
    "    10: \"Deciduous broadleaf forest\",\n",
    "    11: \"Evergreen broadleaf forest\",\n",
    "    12: \"Evergreen needle-leaf forest\",\n",
    "    14: \"Plantation trees\",\n",
    "    15: \"Mangrove\",\n",
    "    16: \"Inland wetland\",\n",
    "    18: \"Open water\",\n",
    "    19: \"Aquaculture\",\n",
    "    20: \"Bamboo area\"\n",
    "}"
   ]
  },
  {
   "cell_type": "markdown",
   "id": "2eaa5991-c385-4ad2-808e-60ba98aff3d0",
   "metadata": {},
   "source": [
    "# The code for aggregation is done on Kaggle because my CPU can't handle it\n",
    "This data gives the proportion of terrain type for every single 10km2 grid "
   ]
  },
  {
   "cell_type": "markdown",
   "id": "1821485d-554e-4286-8035-47032ddde376",
   "metadata": {},
   "source": [
    "Link: https://www.kaggle.com/code/tranthaiduong123/terrain-data-processing"
   ]
  },
  {
   "cell_type": "code",
   "execution_count": 70,
   "id": "a86a735f-da68-4a46-9dae-dd6dd7de3363",
   "metadata": {},
   "outputs": [
    {
     "name": "stdout",
     "output_type": "stream",
     "text": [
      "{'driver': 'GTiff', 'dtype': 'uint8', 'nodata': 0.0, 'width': 3264, 'height': 6492, 'count': 1, 'crs': CRS.from_wkt('GEOGCS[\"WGS 84\",DATUM[\"WGS_1984\",SPHEROID[\"WGS 84\",6378137,298.257223563,AUTHORITY[\"EPSG\",\"7030\"]],AUTHORITY[\"EPSG\",\"6326\"]],PRIMEM[\"Greenwich\",0,AUTHORITY[\"EPSG\",\"8901\"]],UNIT[\"degree\",0.0174532925199433,AUTHORITY[\"EPSG\",\"9122\"]],AXIS[\"Latitude\",NORTH],AXIS[\"Longitude\",EAST],AUTHORITY[\"EPSG\",\"4326\"]]'), 'transform': Affine(0.0023049731197499995, 0.0, 102.04142975361111,\n",
      "       0.0, -0.0023049731197499995, 23.423121875833335)}\n"
     ]
    }
   ],
   "source": [
    "# Open the GeoTIFF file\n",
    "with rasterio.open('analysis/data/terrain/VLUCD_L2_250m_2020.tif') as src:\n",
    "    terrain_array = src.read(1)  # Read the first band\n",
    "    transform = src.transform    # Affine transform to get coordinates\n",
    "    metadata = src.meta\n",
    "    print(metadata)"
   ]
  },
  {
   "cell_type": "code",
   "execution_count": 71,
   "id": "9b457ef6-267d-4feb-80fd-2c421e211b52",
   "metadata": {},
   "outputs": [],
   "source": [
    "grid_data = pd.read_csv('analysis/data/level3-grid-risk.csv')"
   ]
  },
  {
   "cell_type": "code",
   "execution_count": 72,
   "id": "14c38051-a47e-4b8c-a697-fbf2cc023834",
   "metadata": {},
   "outputs": [],
   "source": [
    "grid_coords = grid_data[['grid_id', 'grid_center_lon', 'grid_center_lat']]"
   ]
  },
  {
   "cell_type": "code",
   "execution_count": 73,
   "id": "1cfb6cb6-6f2e-4e99-bc72-26412f30e90d",
   "metadata": {},
   "outputs": [
    {
     "data": {
      "text/html": [
       "<div>\n",
       "<style scoped>\n",
       "    .dataframe tbody tr th:only-of-type {\n",
       "        vertical-align: middle;\n",
       "    }\n",
       "\n",
       "    .dataframe tbody tr th {\n",
       "        vertical-align: top;\n",
       "    }\n",
       "\n",
       "    .dataframe thead th {\n",
       "        text-align: right;\n",
       "    }\n",
       "</style>\n",
       "<table border=\"1\" class=\"dataframe\">\n",
       "  <thead>\n",
       "    <tr style=\"text-align: right;\">\n",
       "      <th></th>\n",
       "      <th>grid_id</th>\n",
       "      <th>grid_center_lon</th>\n",
       "      <th>grid_center_lat</th>\n",
       "    </tr>\n",
       "  </thead>\n",
       "  <tbody>\n",
       "    <tr>\n",
       "      <th>0</th>\n",
       "      <td>100_729</td>\n",
       "      <td>103.248875</td>\n",
       "      <td>20.853103</td>\n",
       "    </tr>\n",
       "    <tr>\n",
       "      <th>1</th>\n",
       "      <td>100_731</td>\n",
       "      <td>103.248213</td>\n",
       "      <td>20.910223</td>\n",
       "    </tr>\n",
       "    <tr>\n",
       "      <th>2</th>\n",
       "      <td>100_732</td>\n",
       "      <td>103.247881</td>\n",
       "      <td>20.938783</td>\n",
       "    </tr>\n",
       "    <tr>\n",
       "      <th>3</th>\n",
       "      <td>100_737</td>\n",
       "      <td>103.246212</td>\n",
       "      <td>21.081582</td>\n",
       "    </tr>\n",
       "    <tr>\n",
       "      <th>4</th>\n",
       "      <td>100_740</td>\n",
       "      <td>103.245204</td>\n",
       "      <td>21.167260</td>\n",
       "    </tr>\n",
       "  </tbody>\n",
       "</table>\n",
       "</div>"
      ],
      "text/plain": [
       "   grid_id  grid_center_lon  grid_center_lat\n",
       "0  100_729       103.248875        20.853103\n",
       "1  100_731       103.248213        20.910223\n",
       "2  100_732       103.247881        20.938783\n",
       "3  100_737       103.246212        21.081582\n",
       "4  100_740       103.245204        21.167260"
      ]
     },
     "execution_count": 73,
     "metadata": {},
     "output_type": "execute_result"
    }
   ],
   "source": [
    "grid_coords.head()"
   ]
  },
  {
   "cell_type": "code",
   "execution_count": 74,
   "id": "558e28c3-5cf7-446f-add4-692eb76af43f",
   "metadata": {},
   "outputs": [
    {
     "data": {
      "text/html": [
       "<div>\n",
       "<style scoped>\n",
       "    .dataframe tbody tr th:only-of-type {\n",
       "        vertical-align: middle;\n",
       "    }\n",
       "\n",
       "    .dataframe tbody tr th {\n",
       "        vertical-align: top;\n",
       "    }\n",
       "\n",
       "    .dataframe thead th {\n",
       "        text-align: right;\n",
       "    }\n",
       "</style>\n",
       "<table border=\"1\" class=\"dataframe\">\n",
       "  <thead>\n",
       "    <tr style=\"text-align: right;\">\n",
       "      <th></th>\n",
       "      <th>lon</th>\n",
       "      <th>lat</th>\n",
       "      <th>terrain_class</th>\n",
       "    </tr>\n",
       "  </thead>\n",
       "  <tbody>\n",
       "    <tr>\n",
       "      <th>1427</th>\n",
       "      <td>105.331779</td>\n",
       "      <td>23.421969</td>\n",
       "      <td>11</td>\n",
       "    </tr>\n",
       "    <tr>\n",
       "      <th>1428</th>\n",
       "      <td>105.334084</td>\n",
       "      <td>23.421969</td>\n",
       "      <td>14</td>\n",
       "    </tr>\n",
       "    <tr>\n",
       "      <th>1429</th>\n",
       "      <td>105.336389</td>\n",
       "      <td>23.421969</td>\n",
       "      <td>5</td>\n",
       "    </tr>\n",
       "    <tr>\n",
       "      <th>1430</th>\n",
       "      <td>105.338694</td>\n",
       "      <td>23.421969</td>\n",
       "      <td>11</td>\n",
       "    </tr>\n",
       "    <tr>\n",
       "      <th>1431</th>\n",
       "      <td>105.340999</td>\n",
       "      <td>23.421969</td>\n",
       "      <td>7</td>\n",
       "    </tr>\n",
       "  </tbody>\n",
       "</table>\n",
       "</div>"
      ],
      "text/plain": [
       "             lon        lat  terrain_class\n",
       "1427  105.331779  23.421969             11\n",
       "1428  105.334084  23.421969             14\n",
       "1429  105.336389  23.421969              5\n",
       "1430  105.338694  23.421969             11\n",
       "1431  105.340999  23.421969              7"
      ]
     },
     "execution_count": 74,
     "metadata": {},
     "output_type": "execute_result"
    }
   ],
   "source": [
    "terrain_data.head(5)"
   ]
  },
  {
   "cell_type": "code",
   "execution_count": 75,
   "id": "32dc421a-dfd5-4ded-9cae-ef0e09a1990f",
   "metadata": {},
   "outputs": [],
   "source": [
    "grid_terrain = pd.read_csv('analysis/data/terrain/grid_terrain_count.csv')"
   ]
  },
  {
   "cell_type": "code",
   "execution_count": 76,
   "id": "b6590ee9-a884-402b-ae16-8c1d24c6286a",
   "metadata": {},
   "outputs": [
    {
     "data": {
      "text/html": [
       "<div>\n",
       "<style scoped>\n",
       "    .dataframe tbody tr th:only-of-type {\n",
       "        vertical-align: middle;\n",
       "    }\n",
       "\n",
       "    .dataframe tbody tr th {\n",
       "        vertical-align: top;\n",
       "    }\n",
       "\n",
       "    .dataframe thead th {\n",
       "        text-align: right;\n",
       "    }\n",
       "</style>\n",
       "<table border=\"1\" class=\"dataframe\">\n",
       "  <thead>\n",
       "    <tr style=\"text-align: right;\">\n",
       "      <th></th>\n",
       "      <th>grid_id</th>\n",
       "      <th>terrain_class</th>\n",
       "      <th>count</th>\n",
       "    </tr>\n",
       "  </thead>\n",
       "  <tbody>\n",
       "    <tr>\n",
       "      <th>0</th>\n",
       "      <td>208_415</td>\n",
       "      <td>14</td>\n",
       "      <td>32</td>\n",
       "    </tr>\n",
       "    <tr>\n",
       "      <th>1</th>\n",
       "      <td>283_459</td>\n",
       "      <td>8</td>\n",
       "      <td>42</td>\n",
       "    </tr>\n",
       "    <tr>\n",
       "      <th>2</th>\n",
       "      <td>225_583</td>\n",
       "      <td>14</td>\n",
       "      <td>47</td>\n",
       "    </tr>\n",
       "    <tr>\n",
       "      <th>3</th>\n",
       "      <td>194_333</td>\n",
       "      <td>4</td>\n",
       "      <td>27</td>\n",
       "    </tr>\n",
       "    <tr>\n",
       "      <th>4</th>\n",
       "      <td>277_461</td>\n",
       "      <td>11</td>\n",
       "      <td>152</td>\n",
       "    </tr>\n",
       "  </tbody>\n",
       "</table>\n",
       "</div>"
      ],
      "text/plain": [
       "   grid_id  terrain_class  count\n",
       "0  208_415             14     32\n",
       "1  283_459              8     42\n",
       "2  225_583             14     47\n",
       "3  194_333              4     27\n",
       "4  277_461             11    152"
      ]
     },
     "execution_count": 76,
     "metadata": {},
     "output_type": "execute_result"
    }
   ],
   "source": [
    "grid_terrain.head(5)"
   ]
  }
 ],
 "metadata": {
  "kernelspec": {
   "display_name": "deep-learning",
   "language": "python",
   "name": "deep-learning"
  },
  "language_info": {
   "codemirror_mode": {
    "name": "ipython",
    "version": 3
   },
   "file_extension": ".py",
   "mimetype": "text/x-python",
   "name": "python",
   "nbconvert_exporter": "python",
   "pygments_lexer": "ipython3",
   "version": "3.12.9"
  }
 },
 "nbformat": 4,
 "nbformat_minor": 5
}
