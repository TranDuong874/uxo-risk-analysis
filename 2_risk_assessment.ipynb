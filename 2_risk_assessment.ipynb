{
 "cells": [
  {
   "cell_type": "code",
   "execution_count": 9,
   "id": "7f2a5677-f491-4ceb-af94-6d6deac4a0f0",
   "metadata": {},
   "outputs": [],
   "source": [
    "import pandas as pd\n",
    "import numpy as np\n",
    "import matplotlib.pyplot as plt\n",
    "import seaborn as sns\n",
    "import geopandas as gpd\n",
    "from shapely.geometry import Point\n",
    "from shapely.ops import nearest_points\n",
    "import matplotlib.patches as mpatches\n",
    "\n",
    "pd.set_option('display.max_columns', None)"
   ]
  },
  {
   "cell_type": "code",
   "execution_count": 2,
   "id": "2f49eeb6-8964-4fae-b53f-0a595d1bcb0b",
   "metadata": {},
   "outputs": [],
   "source": [
    "operations = pd.read_csv('data/operations/operations_cleaned.csv', low_memory=False)\n",
    "weapons = pd.read_csv('data/operations/weapon.csv', encoding='latin-1')\n",
    "aircrafts = pd.read_csv('data/operations/aircraft.csv', encoding='latin-1')"
   ]
  },
  {
   "cell_type": "markdown",
   "id": "978d2043-deaa-4551-830b-3324388844f3",
   "metadata": {},
   "source": [
    "# Purpose of this note book: Implmenting Risk Assessment Model\n",
    "In this notebook, I will implement a hierachical risk assessment model for 3 levels:\n",
    "1. Level-1/ADM1: Is the top level with summarized statistics of every province/cities.\n",
    "2. Level-2/ADM2: Is the sub-level of ADM1 which contains statistics of every districts inside a province/city.\n",
    "3. 10km2 grids: Is the smallest unit level in this model, and is the sub-level of ADM2 which contains statistics of 10km2 square grid."
   ]
  },
  {
   "cell_type": "markdown",
   "id": "2ec00d49-7dc1-4e97-8ddf-aca8f4ed4aeb",
   "metadata": {},
   "source": [
    "# 1. Data processing"
   ]
  },
  {
   "cell_type": "code",
   "execution_count": 95,
   "id": "689de4bf-614f-4865-bd6c-9efe1808f57f",
   "metadata": {},
   "outputs": [],
   "source": [
    "operations = pd.read_csv('data/operations/operations_cleaned.csv', low_memory=False)"
   ]
  },
  {
   "cell_type": "code",
   "execution_count": 3,
   "id": "3dcd9838-634d-4d4a-8987-1455368260ef",
   "metadata": {},
   "outputs": [],
   "source": [
    "aircrafts = pd.read_csv('data/operations/weapon.csv', encoding='latin-1')\n",
    "weapons = pd.read_csv('data/operations/weapon.csv', encoding='latin-1')"
   ]
  },
  {
   "cell_type": "code",
   "execution_count": 19,
   "id": "1fed4a01-697a-401c-aee9-187d59bcc8cb",
   "metadata": {},
   "outputs": [],
   "source": [
    "dud_rate = pd.read_csv('data/dud_rate.csv')"
   ]
  },
  {
   "cell_type": "code",
   "execution_count": 11,
   "id": "4fae3c83-6990-4b28-9faa-00a49b4d8491",
   "metadata": {},
   "outputs": [
    {
     "name": "stderr",
     "output_type": "stream",
     "text": [
      "C:\\Users\\dummy\\miniconda3\\envs\\deep-learning\\Lib\\site-packages\\pyogrio\\core.py:35: RuntimeWarning: Could not detect GDAL data files.  Set GDAL_DATA environment variable to the correct path.\n",
      "  _init_gdal_data()\n"
     ]
    }
   ],
   "source": [
    "adm0 = gpd.read_file('data/geoborders/adm0/geoBoundaries-VNM-ADM0.geojson')\n",
    "adm1 = gpd.read_file('data/geoborders/adm1/geoBoundaries-VNM-ADM1.geojson')\n",
    "adm2 = gpd.read_file('data/geoborders/adm2/geoBoundaries-VNM-ADM2.geojson')"
   ]
  },
  {
   "cell_type": "code",
   "execution_count": 98,
   "id": "f3d21cf1-05cd-4182-ac8a-5ade55ee630c",
   "metadata": {},
   "outputs": [],
   "source": [
    "operations = operations.rename(columns = {\n",
    "    'TGTLONDDD_DDD_WGS84' : 'lon',\n",
    "    'TGTLATDD_DDD_WGS84' : 'lat'\n",
    "})"
   ]
  },
  {
   "cell_type": "code",
   "execution_count": 99,
   "id": "e45db70a-5137-4422-9c2c-a87d7a67ce7b",
   "metadata": {},
   "outputs": [],
   "source": [
    "operations = operations.dropna(subset=['lon'])"
   ]
  },
  {
   "cell_type": "code",
   "execution_count": 100,
   "id": "76f1b264-1ed2-4eca-8c1b-a3b1baf5469b",
   "metadata": {},
   "outputs": [],
   "source": [
    "original_selected_columns = [\n",
    "    'lon', 'lat', 'MSNDATE', 'NUMWEAPONSDELIVERED', 'TGTWEATHER', 'WEAPONTYPE',\n",
    "    'MFUNC_DESC', 'MFUNC_DESC_CLASS', 'WEAPONTYPEWEIGHT'\n",
    "]"
   ]
  },
  {
   "cell_type": "code",
   "execution_count": 101,
   "id": "f9ee321d-7d90-4a20-a884-ce02377364e9",
   "metadata": {},
   "outputs": [],
   "source": [
    "operations = operations[original_selected_columns]"
   ]
  },
  {
   "cell_type": "code",
   "execution_count": 102,
   "id": "0d7c8ce9-ea80-413a-8717-3b0a37f32972",
   "metadata": {},
   "outputs": [],
   "source": [
    "weapon_class = weapons[['WEAPONTYPE', 'WEAPON_CLASS']]\n",
    "operations = operations.merge(weapon_class, 'left', 'WEAPONTYPE')"
   ]
  },
  {
   "cell_type": "markdown",
   "id": "fb14a4dd-5620-4bde-89a3-c6d115534ac0",
   "metadata": {},
   "source": [
    "#### Adding GeoData to operations and remove data points outside range of 5km away from border"
   ]
  },
  {
   "cell_type": "code",
   "execution_count": 104,
   "id": "9a4191b1-4b84-44d0-ace4-7b378913e125",
   "metadata": {},
   "outputs": [],
   "source": [
    "geometry = [Point(xy) for xy in zip(operations['lon'], operations['lat'])]\n",
    "gdf = gpd.GeoDataFrame(operations, geometry=geometry, crs='EPSG:4326')"
   ]
  },
  {
   "cell_type": "code",
   "execution_count": 105,
   "id": "eae31c82-6bf0-42ca-bf10-b4f3f5c93bc0",
   "metadata": {},
   "outputs": [
    {
     "name": "stderr",
     "output_type": "stream",
     "text": [
      "Exception ignored in: 'zmq.backend.cython._zmq.Frame.__del__'\n",
      "Traceback (most recent call last):\n",
      "  File \"_zmq.py\", line 160, in zmq.backend.cython._zmq._check_rc\n",
      "KeyboardInterrupt: \n",
      "\n",
      "KeyboardInterrupt\n",
      "\n"
     ]
    }
   ],
   "source": [
    "from shapely.ops import unary_union, nearest_points\n",
    "\n",
    "gdf = gdf.to_crs(epsg=32648)\n",
    "adm0 = adm0.to_crs(epsg=32648)\n",
    "\n",
    "adm0_union = unary_union(adm0.geometry)\n",
    "\n",
    "adm0_buffer = adm0_union.buffer(5000)\n",
    "\n",
    "adm0_boundary = adm0_union.boundary\n",
    "\n",
    "gdf_filtered = gdf[gdf.geometry.within(adm0_buffer)]\n",
    "\n",
    "outside_mask = ~gdf_filtered.geometry.within(adm0_union)\n",
    "\n",
    "gdf_filtered.loc[outside_mask, 'geometry'] = gdf_filtered.loc[outside_mask, 'geometry'].apply(\n",
    "    lambda geom: nearest_points(geom, adm0_boundary)[1]\n",
    ")\n",
    "\n",
    "gdf_filtered = gdf_filtered.to_crs(epsg=4326)\n",
    "operations = gdf_filtered"
   ]
  },
  {
   "cell_type": "code",
   "execution_count": null,
   "id": "4edbd85e-0a25-460f-a31b-a4559e5cb45b",
   "metadata": {},
   "outputs": [],
   "source": [
    "print(operations.columns)"
   ]
  },
  {
   "cell_type": "code",
   "execution_count": null,
   "id": "8c3b1048-25db-4e33-adb1-ffa5b5712d4f",
   "metadata": {},
   "outputs": [],
   "source": [
    "operations = operations.merge(dud_rate[['WEAPONTYPE', 'DUD_RATE']], 'left', 'WEAPONTYPE')"
   ]
  },
  {
   "cell_type": "code",
   "execution_count": 25,
   "id": "2d0423ce-8682-47f0-bb09-81533fbd4d55",
   "metadata": {},
   "outputs": [],
   "source": [
    "operations['DUD_RATE'] /= 100\n"
   ]
  },
  {
   "cell_type": "code",
   "execution_count": null,
   "id": "7db25987-e57b-4458-a574-4e7894586013",
   "metadata": {},
   "outputs": [],
   "source": [
    "operations['DUD_NUMWEAPONSDELIVERED'] = operations['DUD_RATE'] * operations['NUMWEAPONSDELIVERED']"
   ]
  },
  {
   "cell_type": "markdown",
   "id": "7a79d0ae-7c36-4252-bb5b-569a2e88a7e7",
   "metadata": {},
   "source": [
    "#### Spatial joining ADM0, ADM1, and ADM2"
   ]
  },
  {
   "cell_type": "code",
   "execution_count": 17,
   "id": "d687cfe4-eec4-4678-aed5-3f3b0beab67d",
   "metadata": {},
   "outputs": [],
   "source": [
    "import geopandas as gpd\n",
    "\n",
    "# Ensure all GeoDataFrames use the same CRS\n",
    "operations = operations.to_crs(adm2.crs)  # adm1 and adm0 should have same CRS as adm2\n",
    "\n",
    "target_crs = operations.crs\n",
    "\n",
    "adm0 = adm0.to_crs(target_crs)\n",
    "adm1 = adm1.to_crs(target_crs)\n",
    "adm2 = adm2.to_crs(target_crs)\n",
    "\n",
    "# Merge with ADM2 (e.g., districts)\n",
    "operations = gpd.sjoin(operations, adm2[['shapeName', 'shapeID', 'geometry']], how='left', predicate='within')\n",
    "operations = operations.rename(columns={'shapeName': 'ADM2_name', 'shapeID': 'ADM2_id'})\n",
    "operations = operations.drop(columns='index_right')\n",
    "\n",
    "# Merge with ADM1 (e.g., provinces)\n",
    "operations = gpd.sjoin(operations, adm1[['shapeName', 'shapeID', 'geometry']], how='left', predicate='within')\n",
    "operations = operations.rename(columns={'shapeName': 'ADM1_name', 'shapeID': 'ADM1_id'})\n",
    "operations = operations.drop(columns='index_right')\n",
    "\n",
    "# Merge with ADM0 (country level)\n",
    "operations = gpd.sjoin(operations, adm0[['shapeName', 'shapeID', 'geometry']], how='left', predicate='within')\n",
    "operations = operations.rename(columns={'shapeName': 'ADM0_name', 'shapeID': 'ADM0_id'})\n",
    "operations = operations.drop(columns='index_right')"
   ]
  },
  {
   "cell_type": "code",
   "execution_count": 18,
   "id": "0bb27382-067d-4d03-b177-4da5ee612e5b",
   "metadata": {},
   "outputs": [
    {
     "data": {
      "text/plain": [
       "Index(['lon', 'lat', 'MSNDATE', 'NUMWEAPONSDELIVERED', 'TGTWEATHER',\n",
       "       'WEAPONTYPE', 'MFUNC_DESC', 'MFUNC_DESC_CLASS', 'WEAPONTYPEWEIGHT',\n",
       "       'WEAPON_CLASS', 'geometry', 'DUD_RATE', 'DUD_NUMWEAPONSDELIVERED',\n",
       "       'ADM2_name', 'ADM2_id', 'ADM1_name', 'ADM1_id', 'ADM0_name', 'ADM0_id'],\n",
       "      dtype='object')"
      ]
     },
     "execution_count": 18,
     "metadata": {},
     "output_type": "execute_result"
    }
   ],
   "source": [
    "operations.columns"
   ]
  },
  {
   "cell_type": "code",
   "execution_count": 19,
   "id": "995cc49b-fe9b-4462-a99c-626f397d3255",
   "metadata": {},
   "outputs": [],
   "source": [
    "# operations.to_csv('analysis/data/operations_dud_rate.csv', index=False)"
   ]
  },
  {
   "cell_type": "markdown",
   "id": "58ed1799-4b53-4249-95c3-83c453ed9723",
   "metadata": {},
   "source": [
    "# If operations_dud_Rate.csv already exist run from here"
   ]
  },
  {
   "cell_type": "code",
   "execution_count": 4,
   "id": "593c547a-3daa-427b-80c7-5728788029e6",
   "metadata": {},
   "outputs": [],
   "source": [
    "import geopandas as gpd\n",
    "import pandas as pd\n",
    "from shapely import wkt\n",
    "import numpy as np\n",
    "import jenkspy\n",
    "from shapely import Point"
   ]
  },
  {
   "cell_type": "code",
   "execution_count": 2,
   "id": "2dad1246-d09d-4e28-b82a-f67c087c415f",
   "metadata": {},
   "outputs": [],
   "source": [
    "operations = pd.read_csv('analysis/data/operations_dud_rate.csv', low_memory=False)\n",
    "operations['geometry'] = operations['geometry'].apply(wkt.loads)\n",
    "\n",
    "operations_gdf = gpd.GeoDataFrame(operations, geometry='geometry')\n",
    "\n",
    "operations = operations_gdf.set_crs(epsg=4326, inplace=True)"
   ]
  },
  {
   "cell_type": "code",
   "execution_count": 5,
   "id": "818fd5bd-1c48-4a02-a58e-1f72ad4bfb59",
   "metadata": {},
   "outputs": [],
   "source": [
    "# Reproject to metric CRS (UTM Zone 48N)\n",
    "operations_utm = operations.to_crs(epsg=32648)\n",
    "\n",
    "# Define grid size for 10 km² area grid\n",
    "grid_size = np.sqrt(10) * 1000  # ≈3162 meters\n",
    "\n",
    "# Calculate grid indices\n",
    "operations_utm['grid_x'] = (operations_utm.geometry.x // grid_size).astype(int)\n",
    "operations_utm['grid_y'] = (operations_utm.geometry.y // grid_size).astype(int)\n",
    "\n",
    "# Calculate center coordinates for each grid cell\n",
    "operations_utm['grid_center_x'] = (operations_utm['grid_x'] + 0.5) * grid_size\n",
    "operations_utm['grid_center_y'] = (operations_utm['grid_y'] + 0.5) * grid_size\n",
    "\n",
    "# Create grid center point geometry in UTM CRS\n",
    "grid_centers_utm = gpd.GeoSeries(\n",
    "    [Point(xy) for xy in zip(operations_utm['grid_center_x'], operations_utm['grid_center_y'])],\n",
    "    crs='EPSG:32648'\n",
    ")\n",
    "\n",
    "# Convert grid center points back to WGS84 for plotting\n",
    "grid_centers_wgs84 = grid_centers_utm.to_crs(epsg=4326)\n",
    "\n",
    "# Extract lat/lon for grid center\n",
    "operations_utm['grid_center_lon'] = grid_centers_wgs84.x\n",
    "operations_utm['grid_center_lat'] = grid_centers_wgs84.y\n",
    "\n",
    "# Create grid ID\n",
    "operations_utm['grid_id'] = operations_utm['grid_x'].astype(str) + '_' + operations_utm['grid_y'].astype(str)\n",
    "\n",
    "# Optional: convert full GeoDataFrame back to WGS84 for export or visualization\n",
    "operations_with_grid = operations_utm.to_crs(epsg=4326)"
   ]
  },
  {
   "cell_type": "code",
   "execution_count": 6,
   "id": "262767da-ea6b-4927-99af-5cc6609a3e47",
   "metadata": {},
   "outputs": [
    {
     "name": "stdout",
     "output_type": "stream",
     "text": [
      "Number of 10km2 squares that is possibly contaiminated\n",
      "25399\n",
      "25399\n"
     ]
    }
   ],
   "source": [
    "print(\"Number of 10km2 squares that is possibly contaiminated\")\n",
    "print(len(operations_with_grid['grid_id'].unique())) \n",
    "print(len(operations_with_grid['grid_center_lat'].unique()))"
   ]
  },
  {
   "cell_type": "code",
   "execution_count": 7,
   "id": "6310b1e2-f793-463b-95dc-3371282a0033",
   "metadata": {},
   "outputs": [],
   "source": [
    "operations_with_grid = operations_with_grid.drop(columns=['grid_x','grid_y', 'lon', 'lat',\n",
    "                                                         'TGTWEATHER', 'WEAPONTYPEWEIGHT',\n",
    "                                                          'grid_center_x', 'grid_center_y'])"
   ]
  },
  {
   "cell_type": "code",
   "execution_count": 8,
   "id": "232d4170-d4fc-49d8-8db1-00ff964b7c31",
   "metadata": {},
   "outputs": [],
   "source": [
    "# operations_with_grid.to_csv('analysis/data/operations_dud_rate_gridded.csv', index=False)"
   ]
  },
  {
   "cell_type": "code",
   "execution_count": 9,
   "id": "c5af52b6-0180-478d-8982-7c47b1a6e1d7",
   "metadata": {},
   "outputs": [
    {
     "data": {
      "text/plain": [
       "Index(['MSNDATE', 'NUMWEAPONSDELIVERED', 'WEAPONTYPE', 'MFUNC_DESC',\n",
       "       'MFUNC_DESC_CLASS', 'WEAPON_CLASS', 'geometry', 'DUD_RATE',\n",
       "       'DUD_NUMWEAPONSDELIVERED', 'ADM2_name', 'ADM2_id', 'ADM1_name',\n",
       "       'ADM1_id', 'ADM0_name', 'ADM0_id', 'grid_center_lon', 'grid_center_lat',\n",
       "       'grid_id'],\n",
       "      dtype='object')"
      ]
     },
     "execution_count": 9,
     "metadata": {},
     "output_type": "execute_result"
    }
   ],
   "source": [
    "operations_with_grid.columns"
   ]
  },
  {
   "cell_type": "markdown",
   "id": "b49cf070-be85-4420-80b6-99f54c815e79",
   "metadata": {},
   "source": [
    "#### A grid belongs to an adm2 if the center of grid is inside that ADM2"
   ]
  },
  {
   "cell_type": "code",
   "execution_count": 13,
   "id": "abca0e2b-6a2f-4a59-8e8d-5f753b946718",
   "metadata": {
    "editable": true,
    "slideshow": {
     "slide_type": ""
    },
    "tags": []
   },
   "outputs": [],
   "source": [
    "# 1. Extract unique grid center coordinates\n",
    "grid_centers_df = operations_with_grid[['grid_id', 'grid_center_lon', 'grid_center_lat']].drop_duplicates()\n",
    "\n",
    "# 2. Convert to GeoDataFrame (WGS84)\n",
    "grid_centers_gdf = gpd.GeoDataFrame(\n",
    "    grid_centers_df,\n",
    "    geometry=gpd.points_from_xy(grid_centers_df['grid_center_lon'], grid_centers_df['grid_center_lat']),\n",
    "    crs='EPSG:4326'\n",
    ")\n",
    "\n",
    "# 3. Spatial join with ADM2 to get both name and ID\n",
    "grid_to_adm2 = gpd.sjoin(\n",
    "    grid_centers_gdf,\n",
    "    adm2[['shapeName', 'shapeID', 'geometry']],\n",
    "    how='left',\n",
    "    predicate='within'\n",
    ")\n",
    "\n",
    "# 4. Rename columns for consistency\n",
    "grid_to_adm2 = grid_to_adm2.rename(columns={\n",
    "    'shapeName': 'ADM2_name',\n",
    "    'shapeID': 'ADM2_id'  # Match original column name\n",
    "})\n",
    "\n",
    "# 5. Spatial join with ADM1 to get ADM1 information\n",
    "grid_to_adm1 = gpd.sjoin(\n",
    "    grid_centers_gdf,\n",
    "    adm1[['shapeName', 'shapeID', 'geometry']],\n",
    "    how='left',\n",
    "    predicate='within'\n",
    ")\n",
    "\n",
    "# 6. Rename ADM1 columns for consistency\n",
    "grid_to_adm1 = grid_to_adm1.rename(columns={\n",
    "    'shapeName': 'ADM1_name',\n",
    "    'shapeID': 'ADM1_id'  # Match original column name\n",
    "})\n",
    "\n",
    "# 7. Combine ADM1 and ADM2 information\n",
    "grid_adm_mapping = grid_centers_gdf[['grid_id']].merge(\n",
    "    grid_to_adm1[['grid_id', 'ADM1_name', 'ADM1_id']],\n",
    "    on='grid_id',\n",
    "    how='left'\n",
    ").merge(\n",
    "    grid_to_adm2[['grid_id', 'ADM2_name', 'ADM2_id']],\n",
    "    on='grid_id',\n",
    "    how='left'\n",
    ")\n",
    "\n",
    "# 8. Ensure each grid_id has only one set of ADM values (in case of duplicates)\n",
    "grid_adm_mapping_unique = grid_adm_mapping.drop_duplicates(subset=['grid_id'], keep='first')\n",
    "\n",
    "# 9. Create a clean version of operations_with_grid\n",
    "# First, drop the existing ADM columns that we want to replace\n",
    "operations_with_grid_temp = operations_with_grid.drop(columns=[\n",
    "    'ADM1_name', 'ADM1_id', 'ADM2_name', 'ADM2_id'\n",
    "])\n",
    "\n",
    "# Then merge with the new unique mapping\n",
    "operations_with_grid_clean = operations_with_grid_temp.merge(\n",
    "    grid_adm_mapping_unique[['grid_id', 'ADM1_name', 'ADM1_id', 'ADM2_name', 'ADM2_id']],\n",
    "    on='grid_id',\n",
    "    how='left'\n",
    ")"
   ]
  },
  {
   "cell_type": "code",
   "execution_count": 14,
   "id": "db439e7e-9f13-4917-8e84-622bee671052",
   "metadata": {},
   "outputs": [
    {
     "data": {
      "text/plain": [
       "Index(['MSNDATE', 'NUMWEAPONSDELIVERED', 'WEAPONTYPE', 'MFUNC_DESC',\n",
       "       'MFUNC_DESC_CLASS', 'WEAPON_CLASS', 'geometry', 'DUD_RATE',\n",
       "       'DUD_NUMWEAPONSDELIVERED', 'ADM0_name', 'ADM0_id', 'grid_center_lon',\n",
       "       'grid_center_lat', 'grid_id', 'ADM1_name', 'ADM1_id', 'ADM2_name',\n",
       "       'ADM2_id'],\n",
       "      dtype='object')"
      ]
     },
     "execution_count": 14,
     "metadata": {},
     "output_type": "execute_result"
    }
   ],
   "source": [
    "operations_with_grid_clean.columns"
   ]
  },
  {
   "cell_type": "code",
   "execution_count": 15,
   "id": "c394fc2a-c3ba-474d-a7b1-ea4012b095e3",
   "metadata": {},
   "outputs": [],
   "source": [
    "# operations_with_grid_clean.to_csv('analysis/data/operation_dud_rate_gridded_adm2.csv', index=False)"
   ]
  },
  {
   "cell_type": "markdown",
   "id": "c2ea3bbb-9b77-458f-93f7-5d11f042ca3e",
   "metadata": {},
   "source": [
    "# 2. Implementing Risk Assessment Model"
   ]
  },
  {
   "cell_type": "markdown",
   "id": "32fccabd-7974-4b0e-a721-3229cfc64683",
   "metadata": {},
   "source": [
    "## 2.1. Additional data processing"
   ]
  },
  {
   "cell_type": "code",
   "execution_count": 90,
   "id": "5cfc286c-c2fa-4127-ad6d-68261e85b4c1",
   "metadata": {},
   "outputs": [
    {
     "data": {
      "image/png": "[encoded data removed]",
      "text/plain": [
       "<Figure size 1000x600 with 1 Axes>"
      ]
     },
     "metadata": {},
     "output_type": "display_data"
    }
   ],
   "source": [
    "# Filter rows with missing DUD_RATE\n",
    "missing_df = dud_rate[dud_rate['DUD_RATE'].isna()]\n",
    "\n",
    "# Count missing by WEAPON_CLASS and SOURCE\n",
    "missing_counts = missing_df.groupby(['WEAPON_CLASS', 'SOURCE']).size().unstack(fill_value=0)\n",
    "\n",
    "missing_counts.plot(kind='bar', stacked=True, figsize=(10,6))\n",
    "plt.xticks(rotation=0)  # Keep labels horizontal\n",
    "\n",
    "plt.title('Missing DUD_RATE Count by WEAPON_CLASS and SOURCE')\n",
    "plt.xlabel('WEAPON_CLASS')\n",
    "plt.ylabel('Count of Missing DUD_RATE')\n",
    "plt.legend(title='SOURCE', bbox_to_anchor=(1.05, 1), loc='upper left')\n",
    "plt.tight_layout()\n",
    "plt.show()"
   ]
  },
  {
   "cell_type": "code",
   "execution_count": 89,
   "id": "753af84b-a799-4a36-9782-cbf8a93a1379",
   "metadata": {},
   "outputs": [
    {
     "data": {
      "text/html": [
       "<div>\n",
       "<style scoped>\n",
       "    .dataframe tbody tr th:only-of-type {\n",
       "        vertical-align: middle;\n",
       "    }\n",
       "\n",
       "    .dataframe tbody tr th {\n",
       "        vertical-align: top;\n",
       "    }\n",
       "\n",
       "    .dataframe thead th {\n",
       "        text-align: right;\n",
       "    }\n",
       "</style>\n",
       "<table border=\"1\" class=\"dataframe\">\n",
       "  <thead>\n",
       "    <tr style=\"text-align: right;\">\n",
       "      <th></th>\n",
       "      <th>WEAPONTYPE</th>\n",
       "      <th>WEAPONTYPE_COMMON_NAME</th>\n",
       "      <th>WEAPON_CLASS</th>\n",
       "      <th>DUD_RATE</th>\n",
       "      <th>SOURCE</th>\n",
       "    </tr>\n",
       "  </thead>\n",
       "  <tbody>\n",
       "    <tr>\n",
       "      <th>0</th>\n",
       "      <td>100 GP</td>\n",
       "      <td>General Purpose Bomb</td>\n",
       "      <td>BOMB</td>\n",
       "      <td>0.100</td>\n",
       "      <td>US DoD UXO Technical Report, 1970</td>\n",
       "    </tr>\n",
       "    <tr>\n",
       "      <th>1</th>\n",
       "      <td>1000 G</td>\n",
       "      <td>Megaboller flash powder bomb</td>\n",
       "      <td>BOMB</td>\n",
       "      <td>0.035</td>\n",
       "      <td>Military Munitions Assessment Report, 1975</td>\n",
       "    </tr>\n",
       "    <tr>\n",
       "      <th>2</th>\n",
       "      <td>1000LB GP M-65</td>\n",
       "      <td>An-M65</td>\n",
       "      <td>BOMB</td>\n",
       "      <td>0.100</td>\n",
       "      <td>USAF Explosive Ordnance Report, 1972</td>\n",
       "    </tr>\n",
       "    <tr>\n",
       "      <th>3</th>\n",
       "      <td>1000LB MK-83</td>\n",
       "      <td>Mark 83 bomb</td>\n",
       "      <td>BOMB</td>\n",
       "      <td>0.057</td>\n",
       "      <td>Naval Weapons Center Study, 1974</td>\n",
       "    </tr>\n",
       "    <tr>\n",
       "      <th>4</th>\n",
       "      <td>1000LB SAP M59</td>\n",
       "      <td>AN-M59</td>\n",
       "      <td>BOMB</td>\n",
       "      <td>0.120</td>\n",
       "      <td>USAF EOD Historical Analysis, 1973</td>\n",
       "    </tr>\n",
       "    <tr>\n",
       "      <th>...</th>\n",
       "      <td>...</td>\n",
       "      <td>...</td>\n",
       "      <td>...</td>\n",
       "      <td>...</td>\n",
       "      <td>...</td>\n",
       "    </tr>\n",
       "    <tr>\n",
       "      <th>289</th>\n",
       "      <td>XM384 40MM AMMO</td>\n",
       "      <td>NaN</td>\n",
       "      <td>SUPPORT</td>\n",
       "      <td>NaN</td>\n",
       "      <td>Not explosive ordnance</td>\n",
       "    </tr>\n",
       "    <tr>\n",
       "      <th>290</th>\n",
       "      <td>XM40E5</td>\n",
       "      <td>XM40E5 Gravel Bomb</td>\n",
       "      <td>MISSILE</td>\n",
       "      <td>0.200</td>\n",
       "      <td>Cluster Munitions Assessment Report, 1975</td>\n",
       "    </tr>\n",
       "    <tr>\n",
       "      <th>291</th>\n",
       "      <td>XM41UNITS-CAN</td>\n",
       "      <td>NaN</td>\n",
       "      <td>MISSILE</td>\n",
       "      <td>NaN</td>\n",
       "      <td>Insufficient data</td>\n",
       "    </tr>\n",
       "    <tr>\n",
       "      <th>292</th>\n",
       "      <td>XM42 (XM12) GRVL BOMB</td>\n",
       "      <td>NaN</td>\n",
       "      <td>MISSILE</td>\n",
       "      <td>0.200</td>\n",
       "      <td>Cluster Munitions Assessment Report, 1975</td>\n",
       "    </tr>\n",
       "    <tr>\n",
       "      <th>293</th>\n",
       "      <td>XM54 MICROGRAVEL BOMB</td>\n",
       "      <td>NaN</td>\n",
       "      <td>MISSILE</td>\n",
       "      <td>0.200</td>\n",
       "      <td>Cluster Munitions Assessment Report, 1975</td>\n",
       "    </tr>\n",
       "  </tbody>\n",
       "</table>\n",
       "<p>294 rows × 5 columns</p>\n",
       "</div>"
      ],
      "text/plain": [
       "                WEAPONTYPE        WEAPONTYPE_COMMON_NAME WEAPON_CLASS  \\\n",
       "0                   100 GP          General Purpose Bomb         BOMB   \n",
       "1                   1000 G  Megaboller flash powder bomb         BOMB   \n",
       "2           1000LB GP M-65                        An-M65         BOMB   \n",
       "3             1000LB MK-83                  Mark 83 bomb         BOMB   \n",
       "4           1000LB SAP M59                        AN-M59         BOMB   \n",
       "..                     ...                           ...          ...   \n",
       "289        XM384 40MM AMMO                           NaN      SUPPORT   \n",
       "290                 XM40E5            XM40E5 Gravel Bomb      MISSILE   \n",
       "291          XM41UNITS-CAN                           NaN      MISSILE   \n",
       "292  XM42 (XM12) GRVL BOMB                           NaN      MISSILE   \n",
       "293  XM54 MICROGRAVEL BOMB                           NaN      MISSILE   \n",
       "\n",
       "     DUD_RATE                                      SOURCE  \n",
       "0       0.100           US DoD UXO Technical Report, 1970  \n",
       "1       0.035  Military Munitions Assessment Report, 1975  \n",
       "2       0.100        USAF Explosive Ordnance Report, 1972  \n",
       "3       0.057            Naval Weapons Center Study, 1974  \n",
       "4       0.120          USAF EOD Historical Analysis, 1973  \n",
       "..        ...                                         ...  \n",
       "289       NaN                      Not explosive ordnance  \n",
       "290     0.200   Cluster Munitions Assessment Report, 1975  \n",
       "291       NaN                           Insufficient data  \n",
       "292     0.200   Cluster Munitions Assessment Report, 1975  \n",
       "293     0.200   Cluster Munitions Assessment Report, 1975  \n",
       "\n",
       "[294 rows x 5 columns]"
      ]
     },
     "execution_count": 89,
     "metadata": {},
     "output_type": "execute_result"
    }
   ],
   "source": [
    "dud_rate"
   ]
  },
  {
   "cell_type": "code",
   "execution_count": 91,
   "id": "18ad63e0-c8ef-43fb-915a-c7645b5b001e",
   "metadata": {},
   "outputs": [
    {
     "data": {
      "image/png": "[encoded data removed]",
      "text/plain": [
       "<Figure size 1000x600 with 1 Axes>"
      ]
     },
     "metadata": {},
     "output_type": "display_data"
    }
   ],
   "source": [
    "# Filter rows with available DUD_RATE\n",
    "available_df = dud_rate[dud_rate['DUD_RATE'].notna()]\n",
    "\n",
    "# Count available by WEAPON_CLASS and SOURCE\n",
    "available_counts = available_df.groupby(['WEAPON_CLASS', 'SOURCE']).size().unstack(fill_value=0)\n",
    "\n",
    "# Plot stacked bar chart\n",
    "available_counts.plot(kind='bar', stacked=True, figsize=(10,6))\n",
    "plt.xticks(rotation=0)  # Keep labels horizontal\n",
    "\n",
    "plt.title('Available DUD_RATE Count by WEAPON_CLASS and SOURCE')\n",
    "plt.xlabel('WEAPON_CLASS')\n",
    "plt.ylabel('Count of Available DUD_RATE')\n",
    "plt.legend(title='SOURCE', bbox_to_anchor=(1.05, 1), loc='upper left')\n",
    "plt.tight_layout()\n",
    "plt.show()\n"
   ]
  },
  {
   "cell_type": "markdown",
   "id": "501069b9-2d9f-4e18-9458-5ff86d5b795f",
   "metadata": {},
   "source": [
    "#### Base on this graph, we can remove support missions"
   ]
  },
  {
   "cell_type": "markdown",
   "id": "1c950d92-8639-4cbf-8e55-f53d897dacaa",
   "metadata": {},
   "source": [
    "#### Group data by grid ID"
   ]
  },
  {
   "cell_type": "code",
   "execution_count": 26,
   "id": "8f833d39-dcb1-461d-a7f9-be90524e2910",
   "metadata": {},
   "outputs": [],
   "source": [
    "operations_with_grid_clean = operations_with_grid_clean[operations_with_grid_clean['WEAPON_CLASS'] != 'SUPPORT']"
   ]
  },
  {
   "cell_type": "code",
   "execution_count": 27,
   "id": "dcb1ac4b-1c23-42f9-aecb-138dc25ffa0a",
   "metadata": {},
   "outputs": [],
   "source": [
    "grid_cells = operations_with_grid_clean.groupby('grid_id')"
   ]
  },
  {
   "cell_type": "markdown",
   "id": "6019ef5c-191d-4133-8e9a-934e936f24a0",
   "metadata": {},
   "source": [
    "Estimated Dud Per Mission = DUD_RATE * NUMWEAPONSDELIVERED\n",
    "\n",
    "Total missions count in 10km2 --pivot--> By Weapon Type \n",
    "\n",
    "Total NUMWEAPONSDELIVERED in 10km2 square --pivot--> By Weapon"
   ]
  },
  {
   "cell_type": "code",
   "execution_count": 28,
   "id": "b16653a0-192c-4bfb-864f-ac51772fcfbb",
   "metadata": {},
   "outputs": [],
   "source": [
    "# Estimated dud weapons per cell\n",
    "dud_est_per_cell = grid_cells['DUD_NUMWEAPONSDELIVERED'].sum()\n",
    "\n",
    "# Total mission count per cell\n",
    "mission_count_per_cell = grid_cells.size()\n",
    "\n",
    "# Number of weapon delivered per cell\n",
    "total_weapons_delivered_per_cell = grid_cells['NUMWEAPONSDELIVERED'].sum()"
   ]
  },
  {
   "cell_type": "markdown",
   "id": "44bdfd57-0648-465e-b9f6-5ca4e39832be",
   "metadata": {},
   "source": [
    "## 2.2. Level 3 Risks Assessment / 10km2 Grid Level Assessment\n",
    "\n",
    "- grid_id \n",
    "- est_dud_weapon_density \n",
    "- mission_density \n",
    "- weapon_density \n",
    "- grid_x_coord \n",
    "- grid_y_coord \n",
    "- ADM2_ID \n",
    "- ADM2_name \n",
    "- ADM1_ID \n",
    "- ADM1_name \n",
    "- risk_score\n"
   ]
  },
  {
   "cell_type": "code",
   "execution_count": 29,
   "id": "9d5d3591-98c8-4380-8c98-d2bdb19b426b",
   "metadata": {},
   "outputs": [
    {
     "data": {
      "text/html": [
       "<div>\n",
       "<style scoped>\n",
       "    .dataframe tbody tr th:only-of-type {\n",
       "        vertical-align: middle;\n",
       "    }\n",
       "\n",
       "    .dataframe tbody tr th {\n",
       "        vertical-align: top;\n",
       "    }\n",
       "\n",
       "    .dataframe thead th {\n",
       "        text-align: right;\n",
       "    }\n",
       "</style>\n",
       "<table border=\"1\" class=\"dataframe\">\n",
       "  <thead>\n",
       "    <tr style=\"text-align: right;\">\n",
       "      <th></th>\n",
       "      <th>grid_id</th>\n",
       "      <th>est_dud_weapon</th>\n",
       "      <th>mission_count</th>\n",
       "      <th>weapons_delivered</th>\n",
       "    </tr>\n",
       "  </thead>\n",
       "  <tbody>\n",
       "    <tr>\n",
       "      <th>0</th>\n",
       "      <td>100_729</td>\n",
       "      <td>0.0</td>\n",
       "      <td>1</td>\n",
       "      <td>0</td>\n",
       "    </tr>\n",
       "  </tbody>\n",
       "</table>\n",
       "</div>"
      ],
      "text/plain": [
       "   grid_id  est_dud_weapon  mission_count  weapons_delivered\n",
       "0  100_729             0.0              1                  0"
      ]
     },
     "execution_count": 29,
     "metadata": {},
     "output_type": "execute_result"
    }
   ],
   "source": [
    "# Create the risk_table\n",
    "risk_table = pd.DataFrame({\n",
    "    'est_dud_weapon': dud_est_per_cell,\n",
    "    'mission_count': mission_count_per_cell,\n",
    "    'weapons_delivered': total_weapons_delivered_per_cell\n",
    "})\n",
    "\n",
    "# Reset the index, making the current index a column named 'grid_id'\n",
    "# (assuming your index represents grid IDs - adjust the name if needed)\n",
    "risk_table = risk_table.reset_index().rename(columns={'index': 'grid_id'})\n",
    "\n",
    "# Display the first row\n",
    "risk_table.head(1)"
   ]
  },
  {
   "cell_type": "code",
   "execution_count": 30,
   "id": "bf4951d9-0199-49ed-b681-9784110b0c78",
   "metadata": {},
   "outputs": [
    {
     "data": {
      "text/plain": [
       "Index(['MSNDATE', 'NUMWEAPONSDELIVERED', 'WEAPONTYPE', 'MFUNC_DESC',\n",
       "       'MFUNC_DESC_CLASS', 'WEAPON_CLASS', 'geometry', 'DUD_RATE',\n",
       "       'DUD_NUMWEAPONSDELIVERED', 'ADM0_name', 'ADM0_id', 'grid_center_lon',\n",
       "       'grid_center_lat', 'grid_id', 'ADM1_name', 'ADM1_id', 'ADM2_name',\n",
       "       'ADM2_id'],\n",
       "      dtype='object')"
      ]
     },
     "execution_count": 30,
     "metadata": {},
     "output_type": "execute_result"
    }
   ],
   "source": [
    "operations_with_grid_clean.columns"
   ]
  },
  {
   "cell_type": "code",
   "execution_count": 31,
   "id": "af09aafb-507e-46ee-8664-1607cff80a42",
   "metadata": {},
   "outputs": [],
   "source": [
    "geo_data = operations_with_grid_clean[\n",
    "    ['grid_id', 'ADM1_name', 'ADM1_id', 'ADM2_name', 'ADM2_id', 'grid_center_lon', 'grid_center_lat']\n",
    "].drop_duplicates(subset='grid_id')"
   ]
  },
  {
   "cell_type": "code",
   "execution_count": 32,
   "id": "3ff4e692-7e40-4d6d-b055-2811420dd563",
   "metadata": {},
   "outputs": [],
   "source": [
    "risk_table = risk_table.merge(geo_data, 'left', 'grid_id')"
   ]
  },
  {
   "cell_type": "code",
   "execution_count": 33,
   "id": "d3df4b68-a490-41fd-8c38-ba39135e8457",
   "metadata": {},
   "outputs": [
    {
     "data": {
      "text/html": [
       "<div>\n",
       "<style scoped>\n",
       "    .dataframe tbody tr th:only-of-type {\n",
       "        vertical-align: middle;\n",
       "    }\n",
       "\n",
       "    .dataframe tbody tr th {\n",
       "        vertical-align: top;\n",
       "    }\n",
       "\n",
       "    .dataframe thead th {\n",
       "        text-align: right;\n",
       "    }\n",
       "</style>\n",
       "<table border=\"1\" class=\"dataframe\">\n",
       "  <thead>\n",
       "    <tr style=\"text-align: right;\">\n",
       "      <th></th>\n",
       "      <th>grid_id</th>\n",
       "      <th>est_dud_weapon</th>\n",
       "      <th>mission_count</th>\n",
       "      <th>weapons_delivered</th>\n",
       "      <th>ADM1_name</th>\n",
       "      <th>ADM1_id</th>\n",
       "      <th>ADM2_name</th>\n",
       "      <th>ADM2_id</th>\n",
       "      <th>grid_center_lon</th>\n",
       "      <th>grid_center_lat</th>\n",
       "    </tr>\n",
       "  </thead>\n",
       "  <tbody>\n",
       "    <tr>\n",
       "      <th>0</th>\n",
       "      <td>100_729</td>\n",
       "      <td>0.00</td>\n",
       "      <td>1</td>\n",
       "      <td>0</td>\n",
       "      <td>Sơn La</td>\n",
       "      <td>63759600B3920147428024</td>\n",
       "      <td>Sop Cop</td>\n",
       "      <td>81297802B35904575630157</td>\n",
       "      <td>103.248875</td>\n",
       "      <td>20.853103</td>\n",
       "    </tr>\n",
       "    <tr>\n",
       "      <th>1</th>\n",
       "      <td>100_731</td>\n",
       "      <td>0.00</td>\n",
       "      <td>2</td>\n",
       "      <td>0</td>\n",
       "      <td>Điện Biên</td>\n",
       "      <td>63759600B72990231521734</td>\n",
       "      <td>Dien Bien</td>\n",
       "      <td>81297802B1284717956892</td>\n",
       "      <td>103.248213</td>\n",
       "      <td>20.910223</td>\n",
       "    </tr>\n",
       "    <tr>\n",
       "      <th>2</th>\n",
       "      <td>100_732</td>\n",
       "      <td>28.48</td>\n",
       "      <td>13</td>\n",
       "      <td>338</td>\n",
       "      <td>Điện Biên</td>\n",
       "      <td>63759600B72990231521734</td>\n",
       "      <td>Dien Bien</td>\n",
       "      <td>81297802B1284717956892</td>\n",
       "      <td>103.247881</td>\n",
       "      <td>20.938783</td>\n",
       "    </tr>\n",
       "    <tr>\n",
       "      <th>3</th>\n",
       "      <td>100_737</td>\n",
       "      <td>0.00</td>\n",
       "      <td>3</td>\n",
       "      <td>0</td>\n",
       "      <td>Điện Biên</td>\n",
       "      <td>63759600B72990231521734</td>\n",
       "      <td>Dien Bien Dong</td>\n",
       "      <td>81297802B35707987060986</td>\n",
       "      <td>103.246212</td>\n",
       "      <td>21.081582</td>\n",
       "    </tr>\n",
       "    <tr>\n",
       "      <th>4</th>\n",
       "      <td>100_740</td>\n",
       "      <td>0.60</td>\n",
       "      <td>3</td>\n",
       "      <td>6</td>\n",
       "      <td>Điện Biên</td>\n",
       "      <td>63759600B72990231521734</td>\n",
       "      <td>Dien Bien Dong</td>\n",
       "      <td>81297802B35707987060986</td>\n",
       "      <td>103.245204</td>\n",
       "      <td>21.167260</td>\n",
       "    </tr>\n",
       "    <tr>\n",
       "      <th>...</th>\n",
       "      <td>...</td>\n",
       "      <td>...</td>\n",
       "      <td>...</td>\n",
       "      <td>...</td>\n",
       "      <td>...</td>\n",
       "      <td>...</td>\n",
       "      <td>...</td>\n",
       "      <td>...</td>\n",
       "      <td>...</td>\n",
       "      <td>...</td>\n",
       "    </tr>\n",
       "    <tr>\n",
       "      <th>25240</th>\n",
       "      <td>99_753</td>\n",
       "      <td>3.20</td>\n",
       "      <td>9</td>\n",
       "      <td>32</td>\n",
       "      <td>Điện Biên</td>\n",
       "      <td>63759600B72990231521734</td>\n",
       "      <td>Muong Ang</td>\n",
       "      <td>81297802B95485897365368</td>\n",
       "      <td>103.210254</td>\n",
       "      <td>21.538196</td>\n",
       "    </tr>\n",
       "    <tr>\n",
       "      <th>25241</th>\n",
       "      <td>99_754</td>\n",
       "      <td>5.56</td>\n",
       "      <td>10</td>\n",
       "      <td>58</td>\n",
       "      <td>Điện Biên</td>\n",
       "      <td>63759600B72990231521734</td>\n",
       "      <td>Muong Ang</td>\n",
       "      <td>81297802B95485897365368</td>\n",
       "      <td>103.209904</td>\n",
       "      <td>21.566754</td>\n",
       "    </tr>\n",
       "    <tr>\n",
       "      <th>25242</th>\n",
       "      <td>99_755</td>\n",
       "      <td>2.40</td>\n",
       "      <td>2</td>\n",
       "      <td>24</td>\n",
       "      <td>Điện Biên</td>\n",
       "      <td>63759600B72990231521734</td>\n",
       "      <td>Muong Ang</td>\n",
       "      <td>81297802B95485897365368</td>\n",
       "      <td>103.209553</td>\n",
       "      <td>21.595311</td>\n",
       "    </tr>\n",
       "    <tr>\n",
       "      <th>25243</th>\n",
       "      <td>99_759</td>\n",
       "      <td>0.60</td>\n",
       "      <td>2</td>\n",
       "      <td>6</td>\n",
       "      <td>Điện Biên</td>\n",
       "      <td>63759600B72990231521734</td>\n",
       "      <td>Tuan Giao</td>\n",
       "      <td>81297802B47935602128313</td>\n",
       "      <td>103.208143</td>\n",
       "      <td>21.709539</td>\n",
       "    </tr>\n",
       "    <tr>\n",
       "      <th>25244</th>\n",
       "      <td>99_767</td>\n",
       "      <td>3.50</td>\n",
       "      <td>6</td>\n",
       "      <td>35</td>\n",
       "      <td>Điện Biên</td>\n",
       "      <td>63759600B72990231521734</td>\n",
       "      <td>Muong Cha</td>\n",
       "      <td>81297802B30042560711823</td>\n",
       "      <td>103.205295</td>\n",
       "      <td>21.937990</td>\n",
       "    </tr>\n",
       "  </tbody>\n",
       "</table>\n",
       "<p>25245 rows × 10 columns</p>\n",
       "</div>"
      ],
      "text/plain": [
       "       grid_id  est_dud_weapon  mission_count  weapons_delivered  ADM1_name  \\\n",
       "0      100_729            0.00              1                  0     Sơn La   \n",
       "1      100_731            0.00              2                  0  Điện Biên   \n",
       "2      100_732           28.48             13                338  Điện Biên   \n",
       "3      100_737            0.00              3                  0  Điện Biên   \n",
       "4      100_740            0.60              3                  6  Điện Biên   \n",
       "...        ...             ...            ...                ...        ...   \n",
       "25240   99_753            3.20              9                 32  Điện Biên   \n",
       "25241   99_754            5.56             10                 58  Điện Biên   \n",
       "25242   99_755            2.40              2                 24  Điện Biên   \n",
       "25243   99_759            0.60              2                  6  Điện Biên   \n",
       "25244   99_767            3.50              6                 35  Điện Biên   \n",
       "\n",
       "                       ADM1_id       ADM2_name                  ADM2_id  \\\n",
       "0       63759600B3920147428024         Sop Cop  81297802B35904575630157   \n",
       "1      63759600B72990231521734       Dien Bien   81297802B1284717956892   \n",
       "2      63759600B72990231521734       Dien Bien   81297802B1284717956892   \n",
       "3      63759600B72990231521734  Dien Bien Dong  81297802B35707987060986   \n",
       "4      63759600B72990231521734  Dien Bien Dong  81297802B35707987060986   \n",
       "...                        ...             ...                      ...   \n",
       "25240  63759600B72990231521734       Muong Ang  81297802B95485897365368   \n",
       "25241  63759600B72990231521734       Muong Ang  81297802B95485897365368   \n",
       "25242  63759600B72990231521734       Muong Ang  81297802B95485897365368   \n",
       "25243  63759600B72990231521734       Tuan Giao  81297802B47935602128313   \n",
       "25244  63759600B72990231521734       Muong Cha  81297802B30042560711823   \n",
       "\n",
       "       grid_center_lon  grid_center_lat  \n",
       "0           103.248875        20.853103  \n",
       "1           103.248213        20.910223  \n",
       "2           103.247881        20.938783  \n",
       "3           103.246212        21.081582  \n",
       "4           103.245204        21.167260  \n",
       "...                ...              ...  \n",
       "25240       103.210254        21.538196  \n",
       "25241       103.209904        21.566754  \n",
       "25242       103.209553        21.595311  \n",
       "25243       103.208143        21.709539  \n",
       "25244       103.205295        21.937990  \n",
       "\n",
       "[25245 rows x 10 columns]"
      ]
     },
     "execution_count": 33,
     "metadata": {},
     "output_type": "execute_result"
    }
   ],
   "source": [
    "risk_table"
   ]
  },
  {
   "cell_type": "markdown",
   "id": "f19294ad-cdd5-49cf-aba4-9f0a830a9c65",
   "metadata": {},
   "source": [
    "#### Risk Score\n",
    "\n",
    "Risk Score = w₁ × Normalized Estimated Dud Weapons + w₂ × Normalized Mission Count + w₃ × Normalized Weapons Delivered\n",
    "\n",
    "- *w₁, w₂, w₃*: weights for each component (sum to 1 or adjusted based on importance)\n",
    "- Each component is normalized between 0 and 1 before applying weights\n"
   ]
  },
  {
   "cell_type": "code",
   "execution_count": 34,
   "id": "04b9f0d2-a90c-40a5-90fa-986aa7ca4734",
   "metadata": {},
   "outputs": [],
   "source": [
    "from sklearn.preprocessing import MinMaxScaler\n",
    "\n",
    "scaler = MinMaxScaler()\n",
    "\n",
    "# Normalize the relevant columns but don't assign the normalized columns back\n",
    "norm_values = scaler.fit_transform(risk_table[['est_dud_weapon', 'mission_count', 'weapons_delivered']])\n",
    "\n",
    "# Calculate the average normalized score for each row\n",
    "risk_score = norm_values.mean(axis=1)\n",
    "\n",
    "# Add only the risk_score column to your DataFrame\n",
    "risk_table['risk_score'] = risk_score"
   ]
  },
  {
   "cell_type": "code",
   "execution_count": 35,
   "id": "0773ca3e-ee4a-461f-a60d-ddd4b0cf6314",
   "metadata": {},
   "outputs": [
    {
     "data": {
      "text/html": [
       "<div>\n",
       "<style scoped>\n",
       "    .dataframe tbody tr th:only-of-type {\n",
       "        vertical-align: middle;\n",
       "    }\n",
       "\n",
       "    .dataframe tbody tr th {\n",
       "        vertical-align: top;\n",
       "    }\n",
       "\n",
       "    .dataframe thead th {\n",
       "        text-align: right;\n",
       "    }\n",
       "</style>\n",
       "<table border=\"1\" class=\"dataframe\">\n",
       "  <thead>\n",
       "    <tr style=\"text-align: right;\">\n",
       "      <th></th>\n",
       "      <th>grid_id</th>\n",
       "      <th>est_dud_weapon</th>\n",
       "      <th>mission_count</th>\n",
       "      <th>weapons_delivered</th>\n",
       "      <th>ADM1_name</th>\n",
       "      <th>ADM1_id</th>\n",
       "      <th>ADM2_name</th>\n",
       "      <th>ADM2_id</th>\n",
       "      <th>grid_center_lon</th>\n",
       "      <th>grid_center_lat</th>\n",
       "      <th>risk_score</th>\n",
       "    </tr>\n",
       "  </thead>\n",
       "  <tbody>\n",
       "    <tr>\n",
       "      <th>0</th>\n",
       "      <td>100_729</td>\n",
       "      <td>0.00</td>\n",
       "      <td>1</td>\n",
       "      <td>0</td>\n",
       "      <td>Sơn La</td>\n",
       "      <td>63759600B3920147428024</td>\n",
       "      <td>Sop Cop</td>\n",
       "      <td>81297802B35904575630157</td>\n",
       "      <td>103.248875</td>\n",
       "      <td>20.853103</td>\n",
       "      <td>0.000000</td>\n",
       "    </tr>\n",
       "    <tr>\n",
       "      <th>1</th>\n",
       "      <td>100_731</td>\n",
       "      <td>0.00</td>\n",
       "      <td>2</td>\n",
       "      <td>0</td>\n",
       "      <td>Điện Biên</td>\n",
       "      <td>63759600B72990231521734</td>\n",
       "      <td>Dien Bien</td>\n",
       "      <td>81297802B1284717956892</td>\n",
       "      <td>103.248213</td>\n",
       "      <td>20.910223</td>\n",
       "      <td>0.000030</td>\n",
       "    </tr>\n",
       "    <tr>\n",
       "      <th>2</th>\n",
       "      <td>100_732</td>\n",
       "      <td>28.48</td>\n",
       "      <td>13</td>\n",
       "      <td>338</td>\n",
       "      <td>Điện Biên</td>\n",
       "      <td>63759600B72990231521734</td>\n",
       "      <td>Dien Bien</td>\n",
       "      <td>81297802B1284717956892</td>\n",
       "      <td>103.247881</td>\n",
       "      <td>20.938783</td>\n",
       "      <td>0.002733</td>\n",
       "    </tr>\n",
       "    <tr>\n",
       "      <th>3</th>\n",
       "      <td>100_737</td>\n",
       "      <td>0.00</td>\n",
       "      <td>3</td>\n",
       "      <td>0</td>\n",
       "      <td>Điện Biên</td>\n",
       "      <td>63759600B72990231521734</td>\n",
       "      <td>Dien Bien Dong</td>\n",
       "      <td>81297802B35707987060986</td>\n",
       "      <td>103.246212</td>\n",
       "      <td>21.081582</td>\n",
       "      <td>0.000060</td>\n",
       "    </tr>\n",
       "    <tr>\n",
       "      <th>4</th>\n",
       "      <td>100_740</td>\n",
       "      <td>0.60</td>\n",
       "      <td>3</td>\n",
       "      <td>6</td>\n",
       "      <td>Điện Biên</td>\n",
       "      <td>63759600B72990231521734</td>\n",
       "      <td>Dien Bien Dong</td>\n",
       "      <td>81297802B35707987060986</td>\n",
       "      <td>103.245204</td>\n",
       "      <td>21.167260</td>\n",
       "      <td>0.000107</td>\n",
       "    </tr>\n",
       "  </tbody>\n",
       "</table>\n",
       "</div>"
      ],
      "text/plain": [
       "   grid_id  est_dud_weapon  mission_count  weapons_delivered  ADM1_name  \\\n",
       "0  100_729            0.00              1                  0     Sơn La   \n",
       "1  100_731            0.00              2                  0  Điện Biên   \n",
       "2  100_732           28.48             13                338  Điện Biên   \n",
       "3  100_737            0.00              3                  0  Điện Biên   \n",
       "4  100_740            0.60              3                  6  Điện Biên   \n",
       "\n",
       "                   ADM1_id       ADM2_name                  ADM2_id  \\\n",
       "0   63759600B3920147428024         Sop Cop  81297802B35904575630157   \n",
       "1  63759600B72990231521734       Dien Bien   81297802B1284717956892   \n",
       "2  63759600B72990231521734       Dien Bien   81297802B1284717956892   \n",
       "3  63759600B72990231521734  Dien Bien Dong  81297802B35707987060986   \n",
       "4  63759600B72990231521734  Dien Bien Dong  81297802B35707987060986   \n",
       "\n",
       "   grid_center_lon  grid_center_lat  risk_score  \n",
       "0       103.248875        20.853103    0.000000  \n",
       "1       103.248213        20.910223    0.000030  \n",
       "2       103.247881        20.938783    0.002733  \n",
       "3       103.246212        21.081582    0.000060  \n",
       "4       103.245204        21.167260    0.000107  "
      ]
     },
     "execution_count": 35,
     "metadata": {},
     "output_type": "execute_result"
    }
   ],
   "source": [
    "risk_table.head(5)"
   ]
  },
  {
   "cell_type": "code",
   "execution_count": 36,
   "id": "02932f6b-5970-480f-8e73-c2e8cf190eef",
   "metadata": {},
   "outputs": [],
   "source": [
    "# risk_table.to_csv('analysis/data/level3-grid-risk.csv',index=False)"
   ]
  },
  {
   "cell_type": "code",
   "execution_count": 37,
   "id": "43a9ef2c-5785-4424-8545-1994d3051159",
   "metadata": {},
   "outputs": [
    {
     "data": {
      "text/html": [
       "<div>\n",
       "<style scoped>\n",
       "    .dataframe tbody tr th:only-of-type {\n",
       "        vertical-align: middle;\n",
       "    }\n",
       "\n",
       "    .dataframe tbody tr th {\n",
       "        vertical-align: top;\n",
       "    }\n",
       "\n",
       "    .dataframe thead th {\n",
       "        text-align: right;\n",
       "    }\n",
       "</style>\n",
       "<table border=\"1\" class=\"dataframe\">\n",
       "  <thead>\n",
       "    <tr style=\"text-align: right;\">\n",
       "      <th></th>\n",
       "      <th>est_dud_weapon</th>\n",
       "      <th>mission_count</th>\n",
       "      <th>weapons_delivered</th>\n",
       "      <th>grid_center_lon</th>\n",
       "      <th>grid_center_lat</th>\n",
       "      <th>risk_score</th>\n",
       "    </tr>\n",
       "  </thead>\n",
       "  <tbody>\n",
       "    <tr>\n",
       "      <th>count</th>\n",
       "      <td>25245.000000</td>\n",
       "      <td>25245.000000</td>\n",
       "      <td>25245.000000</td>\n",
       "      <td>25245.000000</td>\n",
       "      <td>25245.000000</td>\n",
       "      <td>25245.000000</td>\n",
       "    </tr>\n",
       "    <tr>\n",
       "      <th>mean</th>\n",
       "      <td>58.891473</td>\n",
       "      <td>88.843969</td>\n",
       "      <td>962.453357</td>\n",
       "      <td>106.760329</td>\n",
       "      <td>14.992746</td>\n",
       "      <td>0.008355</td>\n",
       "    </tr>\n",
       "    <tr>\n",
       "      <th>std</th>\n",
       "      <td>173.472614</td>\n",
       "      <td>222.389839</td>\n",
       "      <td>2672.347988</td>\n",
       "      <td>1.466101</td>\n",
       "      <td>4.064724</td>\n",
       "      <td>0.022161</td>\n",
       "    </tr>\n",
       "    <tr>\n",
       "      <th>min</th>\n",
       "      <td>0.000000</td>\n",
       "      <td>1.000000</td>\n",
       "      <td>0.000000</td>\n",
       "      <td>102.593273</td>\n",
       "      <td>8.396436</td>\n",
       "      <td>0.000000</td>\n",
       "    </tr>\n",
       "    <tr>\n",
       "      <th>25%</th>\n",
       "      <td>1.290000</td>\n",
       "      <td>6.000000</td>\n",
       "      <td>24.000000</td>\n",
       "      <td>105.613782</td>\n",
       "      <td>11.432441</td>\n",
       "      <td>0.000313</td>\n",
       "    </tr>\n",
       "    <tr>\n",
       "      <th>50%</th>\n",
       "      <td>8.670000</td>\n",
       "      <td>22.000000</td>\n",
       "      <td>162.000000</td>\n",
       "      <td>106.748726</td>\n",
       "      <td>14.091727</td>\n",
       "      <td>0.001616</td>\n",
       "    </tr>\n",
       "    <tr>\n",
       "      <th>75%</th>\n",
       "      <td>43.425000</td>\n",
       "      <td>80.000000</td>\n",
       "      <td>768.000000</td>\n",
       "      <td>107.997739</td>\n",
       "      <td>19.033020</td>\n",
       "      <td>0.006939</td>\n",
       "    </tr>\n",
       "    <tr>\n",
       "      <th>max</th>\n",
       "      <td>7110.761000</td>\n",
       "      <td>11094.000000</td>\n",
       "      <td>108576.000000</td>\n",
       "      <td>109.467130</td>\n",
       "      <td>23.003024</td>\n",
       "      <td>0.959595</td>\n",
       "    </tr>\n",
       "  </tbody>\n",
       "</table>\n",
       "</div>"
      ],
      "text/plain": [
       "       est_dud_weapon  mission_count  weapons_delivered  grid_center_lon  \\\n",
       "count    25245.000000   25245.000000       25245.000000     25245.000000   \n",
       "mean        58.891473      88.843969         962.453357       106.760329   \n",
       "std        173.472614     222.389839        2672.347988         1.466101   \n",
       "min          0.000000       1.000000           0.000000       102.593273   \n",
       "25%          1.290000       6.000000          24.000000       105.613782   \n",
       "50%          8.670000      22.000000         162.000000       106.748726   \n",
       "75%         43.425000      80.000000         768.000000       107.997739   \n",
       "max       7110.761000   11094.000000      108576.000000       109.467130   \n",
       "\n",
       "       grid_center_lat    risk_score  \n",
       "count     25245.000000  25245.000000  \n",
       "mean         14.992746      0.008355  \n",
       "std           4.064724      0.022161  \n",
       "min           8.396436      0.000000  \n",
       "25%          11.432441      0.000313  \n",
       "50%          14.091727      0.001616  \n",
       "75%          19.033020      0.006939  \n",
       "max          23.003024      0.959595  "
      ]
     },
     "execution_count": 37,
     "metadata": {},
     "output_type": "execute_result"
    }
   ],
   "source": [
    "risk_table.describe()"
   ]
  },
  {
   "cell_type": "markdown",
   "id": "c257cf96-3ccd-4814-afcf-d66e6977a88f",
   "metadata": {},
   "source": [
    "#### Now we are going to try to bin the scores into different risk levels"
   ]
  },
  {
   "cell_type": "code",
   "execution_count": 38,
   "id": "8e5ac070-5835-472e-a010-d431a6c450c5",
   "metadata": {},
   "outputs": [
    {
     "data": {
      "image/png": "[encoded data removed]",
      "text/plain": [
       "<Figure size 1800x400 with 4 Axes>"
      ]
     },
     "metadata": {},
     "output_type": "display_data"
    }
   ],
   "source": [
    "import matplotlib.pyplot as plt\n",
    "import numpy as np\n",
    "\n",
    "columns = ['est_dud_weapon', 'mission_count', 'weapons_delivered', 'risk_score']\n",
    "\n",
    "fig, axes = plt.subplots(1, 4, figsize=(18, 4))\n",
    "\n",
    "cmap = plt.cm.viridis  # heat colormap\n",
    "\n",
    "for ax, col in zip(axes, columns):\n",
    "    counts, bins, patches = ax.hist(risk_table[col].dropna(), bins=20, edgecolor='black')\n",
    "\n",
    "    norm = plt.Normalize(min(counts), max(counts))\n",
    "    for count, patch in zip(counts, patches):\n",
    "        patch.set_facecolor(cmap(norm(count)))\n",
    "\n",
    "    ax.set_title(f'Histogram of {col}')\n",
    "    ax.set_xlabel(col)\n",
    "    ax.set_ylabel('Frequency')\n",
    "\n",
    "plt.tight_layout()\n",
    "plt.show()"
   ]
  },
  {
   "cell_type": "markdown",
   "id": "eff371e8-7c76-45b7-9770-907e76fa1caa",
   "metadata": {},
   "source": [
    "Initially I intended to classify risk areas based on number ob weapons dropped or dud weapons but since most areas have bombs, it is better to classify areas based on priority, which areas have more risk than otheres, for this reason I will use quantile based classification."
   ]
  },
  {
   "cell_type": "code",
   "execution_count": 39,
   "id": "673f6c15-a416-46ab-a767-4b704df475f6",
   "metadata": {
    "editable": true,
    "jupyter": {
     "source_hidden": true
    },
    "slideshow": {
     "slide_type": ""
    },
    "tags": []
   },
   "outputs": [
    {
     "name": "stdout",
     "output_type": "stream",
     "text": [
      "  Quantile  Lower Bound  Upper Bound\n",
      "0       Q1     0.000000     0.000150\n",
      "1       Q2     0.000150     0.000579\n",
      "2       Q3     0.000579     0.001616\n",
      "3       Q4     0.001616     0.004147\n",
      "4       Q5     0.004147     0.012328\n",
      "5       Q6     0.012328     0.959595\n"
     ]
    },
    {
     "data": {
      "image/png": "[encoded data removed]",
      "text/plain": [
       "<Figure size 2000x600 with 1 Axes>"
      ]
     },
     "metadata": {},
     "output_type": "display_data"
    }
   ],
   "source": [
    "import numpy as np\n",
    "import pandas as pd\n",
    "import matplotlib.pyplot as plt\n",
    "import matplotlib\n",
    "import matplotlib.patches as mpatches\n",
    "\n",
    "# Get risk scores\n",
    "risk_scores = risk_table['risk_score'].values\n",
    "\n",
    "# Use arbitrary binning for histogram\n",
    "bins = 200\n",
    "\n",
    "# Compute quantile breakpoints (6 quantiles = 5 cuts)\n",
    "n_classes = 6\n",
    "quantile_edges = np.quantile(risk_scores, np.linspace(0, 1, n_classes + 1))\n",
    "\n",
    "# Create quantile bin ranges\n",
    "quantile_ranges = []\n",
    "for i in range(len(quantile_edges) - 1):\n",
    "    quantile_ranges.append({\n",
    "        'Quantile': f'Q{i + 1}',\n",
    "        'Lower Bound': quantile_edges[i],\n",
    "        'Upper Bound': quantile_edges[i + 1]\n",
    "    })\n",
    "quantile_df = pd.DataFrame(quantile_ranges)\n",
    "print(quantile_df)\n",
    "\n",
    "# Plot histogram\n",
    "plt.figure(figsize=(20, 6))\n",
    "plt.hist(risk_scores, bins=bins, color='lightblue', edgecolor='black')\n",
    "\n",
    "# Logarithmic scale on the y-axis\n",
    "plt.yscale('log')\n",
    "\n",
    "# Colormap\n",
    "cmap = matplotlib.colormaps['RdYlGn_r'].resampled(n_classes)\n",
    "\n",
    "# Plot vertical lines for quantile boundaries\n",
    "for i, q in enumerate(quantile_edges):\n",
    "    plt.axvline(q, color=cmap(i), linestyle='--', linewidth=2)\n",
    "\n",
    "# Legend\n",
    "risk_levels = ['Low', 'Moderate', 'Elevated', 'High', 'Very High', 'Extreme']\n",
    "patches = [\n",
    "    mpatches.Patch(color=cmap(i), label=f'Q{i + 1}: {risk_levels[i]}')\n",
    "    for i in range(n_classes)\n",
    "]\n",
    "plt.legend(handles=patches, title='Risk Level Quantiles', bbox_to_anchor=(1.05, 1), loc='upper left')\n",
    "\n",
    "plt.title('Histogram of Risk Scores with Quantile-Based Binning (6 Quantiles)')\n",
    "plt.xlabel('Risk Score')\n",
    "plt.ylabel('Frequency (Log Scale)')\n",
    "plt.tight_layout()\n",
    "plt.show()\n"
   ]
  },
  {
   "cell_type": "code",
   "execution_count": 40,
   "id": "1ea9bddb-15f1-4540-8e0a-8b4322a0ba88",
   "metadata": {
    "jupyter": {
     "source_hidden": true
    }
   },
   "outputs": [
    {
     "name": "stdout",
     "output_type": "stream",
     "text": [
      "  Quantile  Lower Bound  Upper Bound\n",
      "0       Q1     0.000000     0.000150\n",
      "1       Q2     0.000150     0.000579\n",
      "2       Q3     0.000579     0.001616\n",
      "3       Q4     0.001616     0.004147\n",
      "4       Q5     0.004147     0.012328\n",
      "5       Q6     0.012328     0.959595\n"
     ]
    },
    {
     "data": {
      "image/png": "[encoded data removed]",
      "text/plain": [
       "<Figure size 2000x600 with 1 Axes>"
      ]
     },
     "metadata": {},
     "output_type": "display_data"
    }
   ],
   "source": [
    "# Get risk scores\n",
    "risk_scores = risk_table['risk_score'].values\n",
    "\n",
    "# Use arbitrary binning for histogram\n",
    "bins = 100\n",
    "\n",
    "# Compute quantile breakpoints (6 quantiles = 5 cuts)\n",
    "n_classes = 6\n",
    "quantile_edges = np.quantile(risk_scores, np.linspace(0, 1, n_classes + 1))\n",
    "\n",
    "# Create quantile bin ranges\n",
    "quantile_ranges = []\n",
    "for i in range(len(quantile_edges)-1):\n",
    "    quantile_ranges.append({\n",
    "        'Quantile': f'Q{i+1}',\n",
    "        'Lower Bound': quantile_edges[i],\n",
    "        'Upper Bound': quantile_edges[i+1]\n",
    "    })\n",
    "quantile_df = pd.DataFrame(quantile_ranges)\n",
    "print(quantile_df)\n",
    "\n",
    "# Plot histogram\n",
    "plt.figure(figsize=(20, 6))\n",
    "plt.hist(risk_scores, bins=bins, color='lightblue', edgecolor='black')\n",
    "\n",
    "# Colormap\n",
    "cmap = matplotlib.colormaps['RdYlGn_r'].resampled(n_classes)\n",
    "\n",
    "# Plot vertical lines for quantile boundaries\n",
    "for i, q in enumerate(quantile_edges):\n",
    "    plt.axvline(q, color=cmap(i), linestyle='--', linewidth=2)\n",
    "\n",
    "# Legend\n",
    "risk_levels = ['Low', 'Moderate', 'Elevated', 'High', 'Very High', 'Extreme']\n",
    "patches = [\n",
    "    mpatches.Patch(color=cmap(i), label=f'Q{i+1}: {risk_levels[i]}')\n",
    "    for i in range(n_classes)\n",
    "]\n",
    "plt.legend(handles=patches, title='Risk Level Quantiles', bbox_to_anchor=(1.05, 1), loc='upper left')\n",
    "\n",
    "plt.title('Histogram of Risk Scores with Quantile-Based Binning (6 Quantiles)')\n",
    "plt.xlabel('Risk Score')\n",
    "plt.ylabel('Frequency')\n",
    "plt.tight_layout()\n",
    "plt.show()"
   ]
  },
  {
   "cell_type": "code",
   "execution_count": 41,
   "id": "d4da9994-5f4c-4e21-beef-50989a3157c8",
   "metadata": {},
   "outputs": [
    {
     "name": "stdout",
     "output_type": "stream",
     "text": [
      "  Quantile Risk Level  Grid Count  Area (km²)\n",
      "0       Q1        Low        4192       41920\n",
      "1       Q2   Moderate        4223       42230\n",
      "2       Q3   Elevated        4207       42070\n",
      "3       Q4       High        4208       42080\n",
      "4       Q5  Very High        4207       42070\n",
      "5       Q6    Extreme        4208       42080\n"
     ]
    }
   ],
   "source": [
    "area_per_cell_km2 = 10\n",
    "\n",
    "bin_edges = quantile_edges\n",
    "\n",
    "quantile_indices = np.digitize(risk_scores, bin_edges, right=False) - 1\n",
    "\n",
    "quantile_indices = np.clip(quantile_indices, 0, len(risk_levels) - 1)\n",
    "\n",
    "counts = np.bincount(quantile_indices, minlength=len(risk_levels))\n",
    "\n",
    "areas_km2 = counts * area_per_cell_km2\n",
    "\n",
    "area_df = pd.DataFrame({\n",
    "    'Quantile': [f'Q{i+1}' for i in range(len(risk_levels))],\n",
    "    'Risk Level': risk_levels,\n",
    "    'Grid Count': counts,\n",
    "    'Area (km²)': areas_km2\n",
    "})\n",
    "\n",
    "print(area_df)"
   ]
  },
  {
   "cell_type": "markdown",
   "id": "b439ca44-d6c7-4d37-8a7b-7c3b28ae9d02",
   "metadata": {},
   "source": [
    "#### Mapping risk level into risk table"
   ]
  },
  {
   "cell_type": "code",
   "execution_count": 50,
   "id": "0ac9ae97-7201-4896-8797-ae04de535241",
   "metadata": {},
   "outputs": [
    {
     "data": {
      "text/html": [
       "<div>\n",
       "<style scoped>\n",
       "    .dataframe tbody tr th:only-of-type {\n",
       "        vertical-align: middle;\n",
       "    }\n",
       "\n",
       "    .dataframe tbody tr th {\n",
       "        vertical-align: top;\n",
       "    }\n",
       "\n",
       "    .dataframe thead th {\n",
       "        text-align: right;\n",
       "    }\n",
       "</style>\n",
       "<table border=\"1\" class=\"dataframe\">\n",
       "  <thead>\n",
       "    <tr style=\"text-align: right;\">\n",
       "      <th></th>\n",
       "      <th>grid_id</th>\n",
       "      <th>est_dud_weapon</th>\n",
       "      <th>mission_count</th>\n",
       "      <th>weapons_delivered</th>\n",
       "      <th>ADM1_name</th>\n",
       "      <th>ADM1_id</th>\n",
       "      <th>ADM2_name</th>\n",
       "      <th>ADM2_id</th>\n",
       "      <th>grid_center_lon</th>\n",
       "      <th>grid_center_lat</th>\n",
       "      <th>risk_score</th>\n",
       "      <th>risk_level</th>\n",
       "    </tr>\n",
       "  </thead>\n",
       "  <tbody>\n",
       "    <tr>\n",
       "      <th>0</th>\n",
       "      <td>100_729</td>\n",
       "      <td>0.00</td>\n",
       "      <td>1</td>\n",
       "      <td>0</td>\n",
       "      <td>Sơn La</td>\n",
       "      <td>63759600B3920147428024</td>\n",
       "      <td>Sop Cop</td>\n",
       "      <td>81297802B35904575630157</td>\n",
       "      <td>103.248875</td>\n",
       "      <td>20.853103</td>\n",
       "      <td>0.000000</td>\n",
       "      <td>Low</td>\n",
       "    </tr>\n",
       "    <tr>\n",
       "      <th>1</th>\n",
       "      <td>100_731</td>\n",
       "      <td>0.00</td>\n",
       "      <td>2</td>\n",
       "      <td>0</td>\n",
       "      <td>Điện Biên</td>\n",
       "      <td>63759600B72990231521734</td>\n",
       "      <td>Dien Bien</td>\n",
       "      <td>81297802B1284717956892</td>\n",
       "      <td>103.248213</td>\n",
       "      <td>20.910223</td>\n",
       "      <td>0.000030</td>\n",
       "      <td>Low</td>\n",
       "    </tr>\n",
       "    <tr>\n",
       "      <th>2</th>\n",
       "      <td>100_732</td>\n",
       "      <td>28.48</td>\n",
       "      <td>13</td>\n",
       "      <td>338</td>\n",
       "      <td>Điện Biên</td>\n",
       "      <td>63759600B72990231521734</td>\n",
       "      <td>Dien Bien</td>\n",
       "      <td>81297802B1284717956892</td>\n",
       "      <td>103.247881</td>\n",
       "      <td>20.938783</td>\n",
       "      <td>0.002733</td>\n",
       "      <td>High</td>\n",
       "    </tr>\n",
       "    <tr>\n",
       "      <th>3</th>\n",
       "      <td>100_737</td>\n",
       "      <td>0.00</td>\n",
       "      <td>3</td>\n",
       "      <td>0</td>\n",
       "      <td>Điện Biên</td>\n",
       "      <td>63759600B72990231521734</td>\n",
       "      <td>Dien Bien Dong</td>\n",
       "      <td>81297802B35707987060986</td>\n",
       "      <td>103.246212</td>\n",
       "      <td>21.081582</td>\n",
       "      <td>0.000060</td>\n",
       "      <td>Low</td>\n",
       "    </tr>\n",
       "    <tr>\n",
       "      <th>4</th>\n",
       "      <td>100_740</td>\n",
       "      <td>0.60</td>\n",
       "      <td>3</td>\n",
       "      <td>6</td>\n",
       "      <td>Điện Biên</td>\n",
       "      <td>63759600B72990231521734</td>\n",
       "      <td>Dien Bien Dong</td>\n",
       "      <td>81297802B35707987060986</td>\n",
       "      <td>103.245204</td>\n",
       "      <td>21.167260</td>\n",
       "      <td>0.000107</td>\n",
       "      <td>Low</td>\n",
       "    </tr>\n",
       "  </tbody>\n",
       "</table>\n",
       "</div>"
      ],
      "text/plain": [
       "   grid_id  est_dud_weapon  mission_count  weapons_delivered  ADM1_name  \\\n",
       "0  100_729            0.00              1                  0     Sơn La   \n",
       "1  100_731            0.00              2                  0  Điện Biên   \n",
       "2  100_732           28.48             13                338  Điện Biên   \n",
       "3  100_737            0.00              3                  0  Điện Biên   \n",
       "4  100_740            0.60              3                  6  Điện Biên   \n",
       "\n",
       "                   ADM1_id       ADM2_name                  ADM2_id  \\\n",
       "0   63759600B3920147428024         Sop Cop  81297802B35904575630157   \n",
       "1  63759600B72990231521734       Dien Bien   81297802B1284717956892   \n",
       "2  63759600B72990231521734       Dien Bien   81297802B1284717956892   \n",
       "3  63759600B72990231521734  Dien Bien Dong  81297802B35707987060986   \n",
       "4  63759600B72990231521734  Dien Bien Dong  81297802B35707987060986   \n",
       "\n",
       "   grid_center_lon  grid_center_lat  risk_score risk_level  \n",
       "0       103.248875        20.853103    0.000000        Low  \n",
       "1       103.248213        20.910223    0.000030        Low  \n",
       "2       103.247881        20.938783    0.002733       High  \n",
       "3       103.246212        21.081582    0.000060        Low  \n",
       "4       103.245204        21.167260    0.000107        Low  "
      ]
     },
     "execution_count": 50,
     "metadata": {},
     "output_type": "execute_result"
    }
   ],
   "source": [
    "risk_levels = ['Low', 'Moderate', 'Elevated', 'High', 'Very High', 'Extreme']\n",
    "\n",
    "quantile_indices = np.digitize(risk_table['risk_score'], bin_edges, right=False) - 1\n",
    "quantile_indices = np.clip(quantile_indices, 0, len(risk_levels) - 1)\n",
    "\n",
    "risk_table['risk_level'] = [risk_levels[i] for i in quantile_indices]\n",
    "\n",
    "level_3_stats = risk_table\n",
    "risk_table.head(5)"
   ]
  },
  {
   "cell_type": "code",
   "execution_count": 43,
   "id": "4bff431f-0f60-4ad0-bac8-86b24d6e67cb",
   "metadata": {},
   "outputs": [],
   "source": [
    "# level_3_stats.to_csv('analysis/data/level3-grid-risk.csv', index=False)"
   ]
  },
  {
   "cell_type": "markdown",
   "id": "157e7dea-650f-4f0b-a728-976fd39897ea",
   "metadata": {},
   "source": [
    "## 2.3. Level 2 Risk Assessment / ADM2 Level Assessment\n",
    "- Count of squares with high risk = weighted count of squares with different risks. Because mean score doesn't reflect priority very well\n",
    "- Estimated UXO count\n",
    "- Average score of 10km2s"
   ]
  },
  {
   "cell_type": "code",
   "execution_count": 53,
   "id": "7fe9ff65-4aad-4250-9407-6cfd390da952",
   "metadata": {},
   "outputs": [],
   "source": [
    "adm2_group = risk_table.groupby('ADM2_id')"
   ]
  },
  {
   "cell_type": "markdown",
   "id": "c9befe92-393b-4a62-903e-81d569c405a3",
   "metadata": {},
   "source": [
    "#### Weighted count of squares with different risks"
   ]
  },
  {
   "cell_type": "code",
   "execution_count": 74,
   "id": "4f1aa75e-0c4b-4c22-867b-d4d79b12268f",
   "metadata": {
    "scrolled": true
   },
   "outputs": [],
   "source": [
    "normalization = 1 + 2 + 3 + 4 + 5 + 6\n",
    "risk_level_weights = {\n",
    "    'Low': 1 / normalization,\n",
    "    'Moderate': 2 / normalization,\n",
    "    'Elevated': 3 / normalization,\n",
    "    'High': 4 / normalization,\n",
    "    'Very High': 5 / normalization,\n",
    "    'Extreme': 6 / normalization\n",
    "}\n",
    "\n",
    "risk_table['risk_weight'] = risk_table['risk_level'].map(risk_level_weights)\n",
    "\n",
    "adm2_stats = risk_table.groupby('ADM2_id').agg(\n",
    "    grid_count=('grid_id', 'count'),\n",
    "    estimated_uxo=('est_dud_weapon', 'sum'),\n",
    "    weighted_risk_score=('risk_weight', 'sum'),\n",
    "    average_risk_score=('risk_score', 'mean'),\n",
    "    mission_density=('mission_count', 'sum'),\n",
    "    weapons_density=('weapons_delivered', 'sum')\n",
    ").reset_index()\n",
    "\n",
    "adm2_stats['weighted_avg_risk_level'] = adm2_stats['weighted_risk_score'] / adm2_stats['grid_count']"
   ]
  },
  {
   "cell_type": "code",
   "execution_count": 75,
   "id": "bb029ab0-df97-41e5-8232-14dc64aa157b",
   "metadata": {},
   "outputs": [],
   "source": [
    "geo_data_adm2 = operations_with_grid_clean[\n",
    "    ['ADM1_name', 'ADM1_id', 'ADM2_name', 'ADM2_id']\n",
    "].drop_duplicates(subset='ADM2_id')\n",
    "\n",
    "adm2_stats = adm2_stats.merge(geo_data_adm2, how='left', on='ADM2_id')"
   ]
  },
  {
   "cell_type": "code",
   "execution_count": 76,
   "id": "b12fab18-dad6-4039-ad1c-78af695dc674",
   "metadata": {},
   "outputs": [
    {
     "data": {
      "text/html": [
       "<div>\n",
       "<style scoped>\n",
       "    .dataframe tbody tr th:only-of-type {\n",
       "        vertical-align: middle;\n",
       "    }\n",
       "\n",
       "    .dataframe tbody tr th {\n",
       "        vertical-align: top;\n",
       "    }\n",
       "\n",
       "    .dataframe thead th {\n",
       "        text-align: right;\n",
       "    }\n",
       "</style>\n",
       "<table border=\"1\" class=\"dataframe\">\n",
       "  <thead>\n",
       "    <tr style=\"text-align: right;\">\n",
       "      <th></th>\n",
       "      <th>ADM2_id</th>\n",
       "      <th>grid_count</th>\n",
       "      <th>estimated_uxo</th>\n",
       "      <th>weighted_risk_score</th>\n",
       "      <th>average_risk_score</th>\n",
       "      <th>mission_density</th>\n",
       "      <th>weapons_density</th>\n",
       "      <th>weighted_avg_risk_level</th>\n",
       "      <th>ADM1_name</th>\n",
       "      <th>ADM1_id</th>\n",
       "      <th>ADM2_name</th>\n",
       "    </tr>\n",
       "  </thead>\n",
       "  <tbody>\n",
       "    <tr>\n",
       "      <th>0</th>\n",
       "      <td>81297802B10167820950608</td>\n",
       "      <td>50</td>\n",
       "      <td>78.605</td>\n",
       "      <td>4.238095</td>\n",
       "      <td>0.000376</td>\n",
       "      <td>277</td>\n",
       "      <td>2697</td>\n",
       "      <td>0.084762</td>\n",
       "      <td>Bắc Giang</td>\n",
       "      <td>63759600B37262939240335</td>\n",
       "      <td>Son Dong</td>\n",
       "    </tr>\n",
       "    <tr>\n",
       "      <th>1</th>\n",
       "      <td>81297802B1021983329449</td>\n",
       "      <td>24</td>\n",
       "      <td>51.105</td>\n",
       "      <td>2.047619</td>\n",
       "      <td>0.000359</td>\n",
       "      <td>106</td>\n",
       "      <td>1221</td>\n",
       "      <td>0.085317</td>\n",
       "      <td>Cần Thơ</td>\n",
       "      <td>63759600B21046589863912</td>\n",
       "      <td>Co Do</td>\n",
       "    </tr>\n",
       "    <tr>\n",
       "      <th>2</th>\n",
       "      <td>81297802B10372149063277</td>\n",
       "      <td>56</td>\n",
       "      <td>1248.560</td>\n",
       "      <td>10.047619</td>\n",
       "      <td>0.003480</td>\n",
       "      <td>2319</td>\n",
       "      <td>22260</td>\n",
       "      <td>0.179422</td>\n",
       "      <td>Bình Thuận</td>\n",
       "      <td>63759600B31473825670333</td>\n",
       "      <td>Duc Linh</td>\n",
       "    </tr>\n",
       "    <tr>\n",
       "      <th>3</th>\n",
       "      <td>81297802B1045120286230</td>\n",
       "      <td>3</td>\n",
       "      <td>64.936</td>\n",
       "      <td>0.666667</td>\n",
       "      <td>0.005357</td>\n",
       "      <td>324</td>\n",
       "      <td>1101</td>\n",
       "      <td>0.222222</td>\n",
       "      <td>Quảng Ngãi</td>\n",
       "      <td>63759600B52816170319692</td>\n",
       "      <td>Quang Ngai</td>\n",
       "    </tr>\n",
       "    <tr>\n",
       "      <th>4</th>\n",
       "      <td>81297802B10550571931229</td>\n",
       "      <td>1</td>\n",
       "      <td>0.000</td>\n",
       "      <td>0.047619</td>\n",
       "      <td>0.000030</td>\n",
       "      <td>2</td>\n",
       "      <td>0</td>\n",
       "      <td>0.047619</td>\n",
       "      <td>NaN</td>\n",
       "      <td>NaN</td>\n",
       "      <td>Kien Hai</td>\n",
       "    </tr>\n",
       "  </tbody>\n",
       "</table>\n",
       "</div>"
      ],
      "text/plain": [
       "                   ADM2_id  grid_count  estimated_uxo  weighted_risk_score  \\\n",
       "0  81297802B10167820950608          50         78.605             4.238095   \n",
       "1   81297802B1021983329449          24         51.105             2.047619   \n",
       "2  81297802B10372149063277          56       1248.560            10.047619   \n",
       "3   81297802B1045120286230           3         64.936             0.666667   \n",
       "4  81297802B10550571931229           1          0.000             0.047619   \n",
       "\n",
       "   average_risk_score  mission_density  weapons_density  \\\n",
       "0            0.000376              277             2697   \n",
       "1            0.000359              106             1221   \n",
       "2            0.003480             2319            22260   \n",
       "3            0.005357              324             1101   \n",
       "4            0.000030                2                0   \n",
       "\n",
       "   weighted_avg_risk_level   ADM1_name                  ADM1_id   ADM2_name  \n",
       "0                 0.084762   Bắc Giang  63759600B37262939240335    Son Dong  \n",
       "1                 0.085317     Cần Thơ  63759600B21046589863912       Co Do  \n",
       "2                 0.179422  Bình Thuận  63759600B31473825670333    Duc Linh  \n",
       "3                 0.222222  Quảng Ngãi  63759600B52816170319692  Quang Ngai  \n",
       "4                 0.047619         NaN                      NaN    Kien Hai  "
      ]
     },
     "execution_count": 76,
     "metadata": {},
     "output_type": "execute_result"
    }
   ],
   "source": [
    "adm2_stats.head(5)"
   ]
  },
  {
   "cell_type": "code",
   "execution_count": 77,
   "id": "b24d2b77-49d5-4970-8427-6cbc88ab51a9",
   "metadata": {},
   "outputs": [],
   "source": [
    "adm2_subset = adm2[['shapeID', 'geometry']].rename(columns={'shapeID': 'ADM2_id'})\n",
    "adm2_stats = adm2_stats.merge(adm2_subset, how='left', on='ADM2_id')"
   ]
  },
  {
   "cell_type": "code",
   "execution_count": 78,
   "id": "0fe65b86-abdb-4458-b30e-bb5c38a53cd7",
   "metadata": {},
   "outputs": [
    {
     "data": {
      "text/plain": [
       "count    676.000000\n",
       "mean       0.157327\n",
       "std        0.068930\n",
       "min        0.047619\n",
       "25%        0.095238\n",
       "50%        0.152920\n",
       "75%        0.216057\n",
       "max        0.285714\n",
       "Name: weighted_avg_risk_level, dtype: float64"
      ]
     },
     "execution_count": 78,
     "metadata": {},
     "output_type": "execute_result"
    }
   ],
   "source": [
    "adm2_stats['weighted_avg_risk_level'].describe()"
   ]
  },
  {
   "cell_type": "markdown",
   "id": "e5fd078a-56c2-4d8f-b438-62359480fd1f",
   "metadata": {},
   "source": [
    "### weighted_avg_risk_level\n",
    "This is preferred because:\n",
    "- It takes into account both the quantity and severity of high-risk grids.\n",
    "- It reflects how concentrated the higher-risk zones are in the ADM2 unit.\n",
    "- It's based on ordinal risk levels (Low → Extreme) rather than raw scores, which helps avoid distortion from outliers.\n",
    "\n",
    "| Metric                    | Pros                                                               | Cons                                                                |\n",
    "| ------------------------- | ------------------------------------------------------------------ | ------------------------------------------------------------------- |\n",
    "| `average_risk_score`      | Captures raw model output average                                  | Highly skewed by outliers due to exponential-like risk distribution |\n",
    "| `weighted_avg_risk_level` | Respects **human-meaningful categories**, robust to extreme values | Depends on quality of your quantile binning                         |\n"
   ]
  },
  {
   "cell_type": "code",
   "execution_count": 81,
   "id": "35d5af93-9ad3-4386-ae8c-f98821e8833f",
   "metadata": {},
   "outputs": [],
   "source": [
    "bins = [0, 1.5, 2.5, 3.5, 4.5, 5.5, 6.1]  # Slightly above max\n",
    "\n",
    "labels = ['Low', 'Moderate', 'Elevated', 'High', 'Very High', 'Extreme']\n",
    "\n",
    "adm2_stats['adm2_risk'] = pd.cut(adm2_stats['weighted_avg_risk_level'], bins=bins, labels=labels)"
   ]
  },
  {
   "cell_type": "code",
   "execution_count": 88,
   "id": "de544dd7-8509-4341-9a9c-03f6d04feede",
   "metadata": {},
   "outputs": [
    {
     "data": {
      "text/plain": [
       "array([0, 1, 2, 3, 4, 5, 6])"
      ]
     },
     "execution_count": 88,
     "metadata": {},
     "output_type": "execute_result"
    }
   ],
   "source": []
  },
  {
   "cell_type": "code",
   "execution_count": 82,
   "id": "27fe1acd-7534-40ac-9003-ef9e326b716c",
   "metadata": {},
   "outputs": [
    {
     "data": {
      "text/html": [
       "<div>\n",
       "<style scoped>\n",
       "    .dataframe tbody tr th:only-of-type {\n",
       "        vertical-align: middle;\n",
       "    }\n",
       "\n",
       "    .dataframe tbody tr th {\n",
       "        vertical-align: top;\n",
       "    }\n",
       "\n",
       "    .dataframe thead th {\n",
       "        text-align: right;\n",
       "    }\n",
       "</style>\n",
       "<table border=\"1\" class=\"dataframe\">\n",
       "  <thead>\n",
       "    <tr style=\"text-align: right;\">\n",
       "      <th></th>\n",
       "      <th>ADM2_id</th>\n",
       "      <th>grid_count</th>\n",
       "      <th>estimated_uxo</th>\n",
       "      <th>weighted_risk_score</th>\n",
       "      <th>average_risk_score</th>\n",
       "      <th>mission_density</th>\n",
       "      <th>weapons_density</th>\n",
       "      <th>weighted_avg_risk_level</th>\n",
       "      <th>ADM1_name</th>\n",
       "      <th>ADM1_id</th>\n",
       "      <th>ADM2_name</th>\n",
       "      <th>geometry</th>\n",
       "      <th>adm2_risk</th>\n",
       "    </tr>\n",
       "  </thead>\n",
       "  <tbody>\n",
       "    <tr>\n",
       "      <th>0</th>\n",
       "      <td>81297802B10167820950608</td>\n",
       "      <td>50</td>\n",
       "      <td>78.605</td>\n",
       "      <td>4.238095</td>\n",
       "      <td>0.000376</td>\n",
       "      <td>277</td>\n",
       "      <td>2697</td>\n",
       "      <td>0.084762</td>\n",
       "      <td>Bắc Giang</td>\n",
       "      <td>63759600B37262939240335</td>\n",
       "      <td>Son Dong</td>\n",
       "      <td>POLYGON ((107.03241 21.32525, 107.03208 21.325...</td>\n",
       "      <td>Low</td>\n",
       "    </tr>\n",
       "  </tbody>\n",
       "</table>\n",
       "</div>"
      ],
      "text/plain": [
       "                   ADM2_id  grid_count  estimated_uxo  weighted_risk_score  \\\n",
       "0  81297802B10167820950608          50         78.605             4.238095   \n",
       "\n",
       "   average_risk_score  mission_density  weapons_density  \\\n",
       "0            0.000376              277             2697   \n",
       "\n",
       "   weighted_avg_risk_level  ADM1_name                  ADM1_id ADM2_name  \\\n",
       "0                 0.084762  Bắc Giang  63759600B37262939240335  Son Dong   \n",
       "\n",
       "                                            geometry adm2_risk  \n",
       "0  POLYGON ((107.03241 21.32525, 107.03208 21.325...       Low  "
      ]
     },
     "execution_count": 82,
     "metadata": {},
     "output_type": "execute_result"
    }
   ],
   "source": [
    "adm2_stats.head(1)"
   ]
  },
  {
   "cell_type": "code",
   "execution_count": 87,
   "id": "a78ae74f-0280-4a5f-99b5-7d8a98d64794",
   "metadata": {},
   "outputs": [
    {
     "data": {
      "text/plain": [
       "adm2_risk\n",
       "Low          676\n",
       "Moderate       0\n",
       "Elevated       0\n",
       "High           0\n",
       "Very High      0\n",
       "Extreme        0\n",
       "Name: count, dtype: int64"
      ]
     },
     "execution_count": 87,
     "metadata": {},
     "output_type": "execute_result"
    }
   ],
   "source": [
    "adm2_stats['adm2_risk'].value_counts()"
   ]
  },
  {
   "cell_type": "code",
   "execution_count": 83,
   "id": "ff40bf11-dc82-4d0b-8ec6-a723f77fa485",
   "metadata": {},
   "outputs": [],
   "source": [
    "adm2_stats.to_csv('analysis/data/level2-adm2-risk.csv', index=False)"
   ]
  },
  {
   "cell_type": "markdown",
   "id": "cd0ec5ba-51ba-4c17-b4d7-1723187a340b",
   "metadata": {},
   "source": [
    "## 2.4. Level 1 Risk Assessment / ADM0 Risk Assessment"
   ]
  },
  {
   "cell_type": "markdown",
   "id": "13a07a74-6e8e-4d74-8b10-76e6c9819870",
   "metadata": {},
   "source": [
    "#### Assessing level 1:\n",
    "- Using level 2 data only -> Might miss some high risk areas, miss granularity\n",
    "- Using ADM1 -> 10km2 grids -> High accuracy but might be less interpretable, and practically ADM2 is the regions given authority to act\n",
    "- Solution: Use both\n",
    "    + Numerical values uses 10km2 directly (for more accuracy)\n",
    "    + Summary data uses ADM2 for majority vote\n",
    "- Risk_level: Majority vote over ADM2\n",
    "- Estimated_uxo: 10km2\n",
    "- Weighted_risk_score: 10km2\n",
    "- Mission_density: 10km2"
   ]
  },
  {
   "cell_type": "code",
   "execution_count": 84,
   "id": "a0a1007c-dd1b-4f24-b0c6-4d7d71793223",
   "metadata": {},
   "outputs": [
    {
     "data": {
      "text/html": [
       "<div>\n",
       "<style scoped>\n",
       "    .dataframe tbody tr th:only-of-type {\n",
       "        vertical-align: middle;\n",
       "    }\n",
       "\n",
       "    .dataframe tbody tr th {\n",
       "        vertical-align: top;\n",
       "    }\n",
       "\n",
       "    .dataframe thead th {\n",
       "        text-align: right;\n",
       "    }\n",
       "</style>\n",
       "<table border=\"1\" class=\"dataframe\">\n",
       "  <thead>\n",
       "    <tr style=\"text-align: right;\">\n",
       "      <th></th>\n",
       "      <th>grid_id</th>\n",
       "      <th>est_dud_weapon</th>\n",
       "      <th>mission_count</th>\n",
       "      <th>weapons_delivered</th>\n",
       "      <th>ADM1_name</th>\n",
       "      <th>ADM1_id</th>\n",
       "      <th>ADM2_name</th>\n",
       "      <th>ADM2_id</th>\n",
       "      <th>grid_center_lon</th>\n",
       "      <th>grid_center_lat</th>\n",
       "      <th>risk_score</th>\n",
       "      <th>risk_level</th>\n",
       "      <th>risk_weight</th>\n",
       "      <th>weighted_risk_score</th>\n",
       "    </tr>\n",
       "  </thead>\n",
       "  <tbody>\n",
       "    <tr>\n",
       "      <th>0</th>\n",
       "      <td>100_729</td>\n",
       "      <td>0.00</td>\n",
       "      <td>1</td>\n",
       "      <td>0</td>\n",
       "      <td>Sơn La</td>\n",
       "      <td>63759600B3920147428024</td>\n",
       "      <td>Sop Cop</td>\n",
       "      <td>81297802B35904575630157</td>\n",
       "      <td>103.248875</td>\n",
       "      <td>20.853103</td>\n",
       "      <td>0.000000</td>\n",
       "      <td>Low</td>\n",
       "      <td>0.047619</td>\n",
       "      <td>0.000000</td>\n",
       "    </tr>\n",
       "    <tr>\n",
       "      <th>1</th>\n",
       "      <td>100_731</td>\n",
       "      <td>0.00</td>\n",
       "      <td>2</td>\n",
       "      <td>0</td>\n",
       "      <td>Điện Biên</td>\n",
       "      <td>63759600B72990231521734</td>\n",
       "      <td>Dien Bien</td>\n",
       "      <td>81297802B1284717956892</td>\n",
       "      <td>103.248213</td>\n",
       "      <td>20.910223</td>\n",
       "      <td>0.000030</td>\n",
       "      <td>Low</td>\n",
       "      <td>0.047619</td>\n",
       "      <td>0.000030</td>\n",
       "    </tr>\n",
       "    <tr>\n",
       "      <th>2</th>\n",
       "      <td>100_732</td>\n",
       "      <td>28.48</td>\n",
       "      <td>13</td>\n",
       "      <td>338</td>\n",
       "      <td>Điện Biên</td>\n",
       "      <td>63759600B72990231521734</td>\n",
       "      <td>Dien Bien</td>\n",
       "      <td>81297802B1284717956892</td>\n",
       "      <td>103.247881</td>\n",
       "      <td>20.938783</td>\n",
       "      <td>0.002733</td>\n",
       "      <td>High</td>\n",
       "      <td>0.190476</td>\n",
       "      <td>0.010933</td>\n",
       "    </tr>\n",
       "    <tr>\n",
       "      <th>3</th>\n",
       "      <td>100_737</td>\n",
       "      <td>0.00</td>\n",
       "      <td>3</td>\n",
       "      <td>0</td>\n",
       "      <td>Điện Biên</td>\n",
       "      <td>63759600B72990231521734</td>\n",
       "      <td>Dien Bien Dong</td>\n",
       "      <td>81297802B35707987060986</td>\n",
       "      <td>103.246212</td>\n",
       "      <td>21.081582</td>\n",
       "      <td>0.000060</td>\n",
       "      <td>Low</td>\n",
       "      <td>0.047619</td>\n",
       "      <td>0.000060</td>\n",
       "    </tr>\n",
       "    <tr>\n",
       "      <th>4</th>\n",
       "      <td>100_740</td>\n",
       "      <td>0.60</td>\n",
       "      <td>3</td>\n",
       "      <td>6</td>\n",
       "      <td>Điện Biên</td>\n",
       "      <td>63759600B72990231521734</td>\n",
       "      <td>Dien Bien Dong</td>\n",
       "      <td>81297802B35707987060986</td>\n",
       "      <td>103.245204</td>\n",
       "      <td>21.167260</td>\n",
       "      <td>0.000107</td>\n",
       "      <td>Low</td>\n",
       "      <td>0.047619</td>\n",
       "      <td>0.000107</td>\n",
       "    </tr>\n",
       "  </tbody>\n",
       "</table>\n",
       "</div>"
      ],
      "text/plain": [
       "   grid_id  est_dud_weapon  mission_count  weapons_delivered  ADM1_name  \\\n",
       "0  100_729            0.00              1                  0     Sơn La   \n",
       "1  100_731            0.00              2                  0  Điện Biên   \n",
       "2  100_732           28.48             13                338  Điện Biên   \n",
       "3  100_737            0.00              3                  0  Điện Biên   \n",
       "4  100_740            0.60              3                  6  Điện Biên   \n",
       "\n",
       "                   ADM1_id       ADM2_name                  ADM2_id  \\\n",
       "0   63759600B3920147428024         Sop Cop  81297802B35904575630157   \n",
       "1  63759600B72990231521734       Dien Bien   81297802B1284717956892   \n",
       "2  63759600B72990231521734       Dien Bien   81297802B1284717956892   \n",
       "3  63759600B72990231521734  Dien Bien Dong  81297802B35707987060986   \n",
       "4  63759600B72990231521734  Dien Bien Dong  81297802B35707987060986   \n",
       "\n",
       "   grid_center_lon  grid_center_lat  risk_score risk_level  risk_weight  \\\n",
       "0       103.248875        20.853103    0.000000        Low     0.047619   \n",
       "1       103.248213        20.910223    0.000030        Low     0.047619   \n",
       "2       103.247881        20.938783    0.002733       High     0.190476   \n",
       "3       103.246212        21.081582    0.000060        Low     0.047619   \n",
       "4       103.245204        21.167260    0.000107        Low     0.047619   \n",
       "\n",
       "   weighted_risk_score  \n",
       "0             0.000000  \n",
       "1             0.000030  \n",
       "2             0.010933  \n",
       "3             0.000060  \n",
       "4             0.000107  "
      ]
     },
     "execution_count": 84,
     "metadata": {},
     "output_type": "execute_result"
    }
   ],
   "source": [
    "level_3_stats.head(5)"
   ]
  },
  {
   "cell_type": "code",
   "execution_count": 85,
   "id": "6d31f901-ac03-4fa6-b98b-f434c17b0c82",
   "metadata": {},
   "outputs": [
    {
     "data": {
      "text/html": [
       "<div>\n",
       "<style scoped>\n",
       "    .dataframe tbody tr th:only-of-type {\n",
       "        vertical-align: middle;\n",
       "    }\n",
       "\n",
       "    .dataframe tbody tr th {\n",
       "        vertical-align: top;\n",
       "    }\n",
       "\n",
       "    .dataframe thead th {\n",
       "        text-align: right;\n",
       "    }\n",
       "</style>\n",
       "<table border=\"1\" class=\"dataframe\">\n",
       "  <thead>\n",
       "    <tr style=\"text-align: right;\">\n",
       "      <th></th>\n",
       "      <th>ADM2_id</th>\n",
       "      <th>grid_count</th>\n",
       "      <th>estimated_uxo</th>\n",
       "      <th>weighted_risk_score</th>\n",
       "      <th>average_risk_score</th>\n",
       "      <th>mission_density</th>\n",
       "      <th>weapons_density</th>\n",
       "      <th>weighted_avg_risk_level</th>\n",
       "      <th>ADM1_name</th>\n",
       "      <th>ADM1_id</th>\n",
       "      <th>ADM2_name</th>\n",
       "      <th>geometry</th>\n",
       "      <th>adm2_risk</th>\n",
       "    </tr>\n",
       "  </thead>\n",
       "  <tbody>\n",
       "    <tr>\n",
       "      <th>0</th>\n",
       "      <td>81297802B10167820950608</td>\n",
       "      <td>50</td>\n",
       "      <td>78.605</td>\n",
       "      <td>4.238095</td>\n",
       "      <td>0.000376</td>\n",
       "      <td>277</td>\n",
       "      <td>2697</td>\n",
       "      <td>0.084762</td>\n",
       "      <td>Bắc Giang</td>\n",
       "      <td>63759600B37262939240335</td>\n",
       "      <td>Son Dong</td>\n",
       "      <td>POLYGON ((107.03241 21.32525, 107.03208 21.325...</td>\n",
       "      <td>Low</td>\n",
       "    </tr>\n",
       "  </tbody>\n",
       "</table>\n",
       "</div>"
      ],
      "text/plain": [
       "                   ADM2_id  grid_count  estimated_uxo  weighted_risk_score  \\\n",
       "0  81297802B10167820950608          50         78.605             4.238095   \n",
       "\n",
       "   average_risk_score  mission_density  weapons_density  \\\n",
       "0            0.000376              277             2697   \n",
       "\n",
       "   weighted_avg_risk_level  ADM1_name                  ADM1_id ADM2_name  \\\n",
       "0                 0.084762  Bắc Giang  63759600B37262939240335  Son Dong   \n",
       "\n",
       "                                            geometry adm2_risk  \n",
       "0  POLYGON ((107.03241 21.32525, 107.03208 21.325...       Low  "
      ]
     },
     "execution_count": 85,
     "metadata": {},
     "output_type": "execute_result"
    }
   ],
   "source": [
    "adm2_stats.head(1)"
   ]
  },
  {
   "cell_type": "code",
   "execution_count": 86,
   "id": "03020950-caac-4879-9874-80442ce9e4e4",
   "metadata": {},
   "outputs": [],
   "source": [
    "adm1_group = adm2_stats.groupby('ADM1_id')\n",
    "grouped_adm2_risk = adm1_group['adm2_risk'].value_counts()"
   ]
  },
  {
   "cell_type": "code",
   "execution_count": 240,
   "id": "6632b0b3-aab3-44cc-8d6a-59ffede58413",
   "metadata": {},
   "outputs": [],
   "source": [
    "\n",
    "# STEP 1: Majority Vote over ADM2 Risk Levels\n",
    "adm2_vote = (\n",
    "    adm2_stats.groupby(['ADM1_id', 'adm2_risk'], observed=True)\n",
    "    .size()\n",
    "    .unstack(fill_value=0)\n",
    ")\n",
    "\n",
    "# Majority vote: pick risk level with highest count\n",
    "adm2_vote['risk_level'] = adm2_vote.idxmax(axis=1)\n",
    "\n",
    "# Reset index to turn into a usable DataFrame\n",
    "adm2_vote = adm2_vote.reset_index()[['ADM1_id', 'risk_level']]\n",
    "\n",
    "# STEP 2: Aggregate Numerical Values from 10km²\n",
    "adm1_numerical = (\n",
    "    level_3_stats.groupby('ADM1_id')\n",
    "    .agg(\n",
    "        estimated_uxo=('est_dud_weapon', 'sum'),\n",
    "        weighted_risk_score=('risk_score', 'mean'),  # or weighted mean if needed\n",
    "        mission_density=('mission_count', 'mean')    # or sum if appropriate\n",
    "    )\n",
    "    .reset_index()\n",
    ")\n",
    "\n",
    "# STEP 3: Hotspot Flag (≥25% grids are High or Extreme)\n",
    "high_risk_mask = level_3_stats['risk_level'].isin(['High', 'Extreme'])\n",
    "\n",
    "total_grids = level_3_stats.groupby('ADM1_id').size().rename('total_grids')\n",
    "high_risk_grids = level_3_stats[high_risk_mask].groupby('ADM1_id').size().rename('high_risk_grids')\n",
    "\n",
    "hotspot_df = pd.concat([total_grids, high_risk_grids], axis=1).fillna(0)\n",
    "hotspot_df['high_risk_ratio'] = hotspot_df['high_risk_grids'] / hotspot_df['total_grids']\n",
    "hotspot_df['is_hotspot'] = hotspot_df['high_risk_ratio'] > 0.25\n",
    "hotspot_df = hotspot_df[['is_hotspot']].reset_index()\n",
    "\n",
    "# STEP 4: Combine All Into ADM1 Summary-\n",
    "adm1_stats = adm1_numerical \\\n",
    "    .merge(adm2_vote, on='ADM1_id', how='left') \\\n",
    "    .merge(hotspot_df, on='ADM1_id', how='left')"
   ]
  },
  {
   "cell_type": "code",
   "execution_count": 241,
   "id": "fdcce01e-14b5-4ebf-9573-ffd4f439889f",
   "metadata": {},
   "outputs": [],
   "source": [
    "adm1_geo_data = operations_with_grid_clean[\n",
    "    ['ADM1_name', 'ADM1_id']\n",
    "].drop_duplicates(subset='ADM1_id')"
   ]
  },
  {
   "cell_type": "code",
   "execution_count": 242,
   "id": "96b02428-23b3-4306-8e78-af762f149bb6",
   "metadata": {},
   "outputs": [],
   "source": [
    "adm1_trimmed = adm1_geo_data[adm1_geo_data['ADM1_id'].isin(adm1_stats['ADM1_id'])]\n",
    "adm1_stats = adm1_stats.merge(adm1_trimmed, on='ADM1_id', how='left')"
   ]
  },
  {
   "cell_type": "code",
   "execution_count": 243,
   "id": "bfb262f4-2bcb-498d-9f93-56e03677dfe3",
   "metadata": {},
   "outputs": [
    {
     "data": {
      "text/html": [
       "<div>\n",
       "<style scoped>\n",
       "    .dataframe tbody tr th:only-of-type {\n",
       "        vertical-align: middle;\n",
       "    }\n",
       "\n",
       "    .dataframe tbody tr th {\n",
       "        vertical-align: top;\n",
       "    }\n",
       "\n",
       "    .dataframe thead th {\n",
       "        text-align: right;\n",
       "    }\n",
       "</style>\n",
       "<table border=\"1\" class=\"dataframe\">\n",
       "  <thead>\n",
       "    <tr style=\"text-align: right;\">\n",
       "      <th></th>\n",
       "      <th>ADM1_id</th>\n",
       "      <th>estimated_uxo</th>\n",
       "      <th>weighted_risk_score</th>\n",
       "      <th>mission_density</th>\n",
       "      <th>risk_level</th>\n",
       "      <th>is_hotspot</th>\n",
       "      <th>ADM1_name</th>\n",
       "    </tr>\n",
       "  </thead>\n",
       "  <tbody>\n",
       "    <tr>\n",
       "      <th>0</th>\n",
       "      <td>63759600B11108179203280</td>\n",
       "      <td>1.836</td>\n",
       "      <td>0.000082</td>\n",
       "      <td>2.909091</td>\n",
       "      <td>Low</td>\n",
       "      <td>False</td>\n",
       "      <td>Cao Bằng</td>\n",
       "    </tr>\n",
       "    <tr>\n",
       "      <th>1</th>\n",
       "      <td>63759600B12588044805894</td>\n",
       "      <td>24782.171</td>\n",
       "      <td>0.016468</td>\n",
       "      <td>195.671233</td>\n",
       "      <td>Low</td>\n",
       "      <td>False</td>\n",
       "      <td>Tiền Giang</td>\n",
       "    </tr>\n",
       "    <tr>\n",
       "      <th>2</th>\n",
       "      <td>63759600B12839449494422</td>\n",
       "      <td>34197.142</td>\n",
       "      <td>0.008533</td>\n",
       "      <td>97.245847</td>\n",
       "      <td>Low</td>\n",
       "      <td>False</td>\n",
       "      <td>Đồng Nai</td>\n",
       "    </tr>\n",
       "    <tr>\n",
       "      <th>3</th>\n",
       "      <td>63759600B13042736323456</td>\n",
       "      <td>69030.758</td>\n",
       "      <td>0.013608</td>\n",
       "      <td>126.298883</td>\n",
       "      <td>Low</td>\n",
       "      <td>False</td>\n",
       "      <td>Bình Phước</td>\n",
       "    </tr>\n",
       "    <tr>\n",
       "      <th>4</th>\n",
       "      <td>63759600B15361955936842</td>\n",
       "      <td>41452.212</td>\n",
       "      <td>0.004037</td>\n",
       "      <td>42.299486</td>\n",
       "      <td>Low</td>\n",
       "      <td>False</td>\n",
       "      <td>Gia Lai</td>\n",
       "    </tr>\n",
       "  </tbody>\n",
       "</table>\n",
       "</div>"
      ],
      "text/plain": [
       "                   ADM1_id  estimated_uxo  weighted_risk_score  \\\n",
       "0  63759600B11108179203280          1.836             0.000082   \n",
       "1  63759600B12588044805894      24782.171             0.016468   \n",
       "2  63759600B12839449494422      34197.142             0.008533   \n",
       "3  63759600B13042736323456      69030.758             0.013608   \n",
       "4  63759600B15361955936842      41452.212             0.004037   \n",
       "\n",
       "   mission_density risk_level  is_hotspot   ADM1_name  \n",
       "0         2.909091        Low       False    Cao Bằng  \n",
       "1       195.671233        Low       False  Tiền Giang  \n",
       "2        97.245847        Low       False    Đồng Nai  \n",
       "3       126.298883        Low       False  Bình Phước  \n",
       "4        42.299486        Low       False     Gia Lai  "
      ]
     },
     "execution_count": 243,
     "metadata": {},
     "output_type": "execute_result"
    }
   ],
   "source": [
    "adm1_stats.head(5)"
   ]
  },
  {
   "cell_type": "code",
   "execution_count": 244,
   "id": "5a5eadcf-79f0-47eb-9516-445cdc19b2a7",
   "metadata": {},
   "outputs": [],
   "source": [
    "adm1_stats.loc[adm1_stats['ADM1_name'] == 'Hà Nội\\t', 'ADM1_name'] = 'Hà Nội'"
   ]
  },
  {
   "cell_type": "code",
   "execution_count": 245,
   "id": "deddddc3-7441-4052-ba1a-79af8c692b69",
   "metadata": {},
   "outputs": [],
   "source": [
    "adm1_stats.to_csv('analysis/data/level1-adm1-risk.csv', index=False)"
   ]
  }
 ],
 "metadata": {
  "kernelspec": {
   "display_name": "deep-learning",
   "language": "python",
   "name": "deep-learning"
  },
  "language_info": {
   "codemirror_mode": {
    "name": "ipython",
    "version": 3
   },
   "file_extension": ".py",
   "mimetype": "text/x-python",
   "name": "python",
   "nbconvert_exporter": "python",
   "pygments_lexer": "ipython3",
   "version": "3.12.9"
  }
 },
 "nbformat": 4,
 "nbformat_minor": 5
}
